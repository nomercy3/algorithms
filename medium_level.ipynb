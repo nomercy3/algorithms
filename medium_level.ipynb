{
 "cells": [
  {
   "cell_type": "markdown",
   "source": [
    "# Leetcode medium algorithms"
   ],
   "metadata": {
    "collapsed": false
   }
  },
  {
   "cell_type": "code",
   "execution_count": 1,
   "outputs": [],
   "source": [
    "# General imports\n",
    "from typing import List"
   ],
   "metadata": {
    "collapsed": false
   }
  },
  {
   "cell_type": "markdown",
   "source": [
    "# 0074. Search a 2D Matrix\n",
    "[Link to a problem](https://leetcode.com/problems/search-a-2d-matrix/)\n",
    "\n",
    "First, I am implementing inefficient solution, where we do the search on each row. Time complexity is O(m*log(n))."
   ],
   "metadata": {
    "collapsed": false
   }
  },
  {
   "cell_type": "code",
   "execution_count": 2,
   "outputs": [],
   "source": [
    "class Solution:\n",
    "    def searchMatrix(self, matrix: List[List[int]], target: int) -> bool:\n",
    "\n",
    "        for row in matrix:\n",
    "            left, right = 0, len(row)-1\n",
    "\n",
    "            while left <= right:\n",
    "                midway = left + ((right - left) // 2)\n",
    "\n",
    "                if row[midway] > target:\n",
    "                    right = midway - 1\n",
    "                elif row[midway] < target:\n",
    "                    left = midway + 1\n",
    "                elif row[midway] == target:\n",
    "                    return True\n",
    "                else:\n",
    "                    continue\n",
    "        return False"
   ],
   "metadata": {
    "collapsed": false
   }
  },
  {
   "cell_type": "code",
   "execution_count": 3,
   "outputs": [
    {
     "data": {
      "text/plain": "True"
     },
     "execution_count": 3,
     "metadata": {},
     "output_type": "execute_result"
    }
   ],
   "source": [
    "# Testcases\n",
    "solution = Solution()\n",
    "matrix_1 = [[1,3,5,7],[10,11,16,20],[23,30,34,60]]\n",
    "target = 5\n",
    "\n",
    "solution.searchMatrix(matrix_1, target)"
   ],
   "metadata": {
    "collapsed": false
   }
  },
  {
   "cell_type": "markdown",
   "source": [
    "Efficient solution is where we do binary search on whole matrix and then do binary search on specific row."
   ],
   "metadata": {
    "collapsed": false
   }
  },
  {
   "cell_type": "code",
   "execution_count": 4,
   "outputs": [],
   "source": [
    "class Solution:\n",
    "    def searchMatrix(self, matrix: List[List[int]], target: int) -> bool:\n",
    "        ROWS, COLS = len(matrix), len(matrix[0])\n",
    "\n",
    "        top_row, bottom_row = 0, ROWS - 1\n",
    "\n",
    "        while top_row <= bottom_row:\n",
    "            middle_row = (top_row + bottom_row) // 2\n",
    "\n",
    "            if target > matrix[middle_row][-1]: # lookup for the largest value in a row\n",
    "                top_row = middle_row + 1\n",
    "            elif target < matrix[middle_row][0]: # lookup for the smallest value in a row\n",
    "                bottom_row = middle_row - 1\n",
    "            else:\n",
    "                break\n",
    "\n",
    "        if not (top_row <= bottom_row):\n",
    "            return False\n",
    "        row = (top_row + bottom_row) // 2\n",
    "        left, right = 0, COLS - 1\n",
    "\n",
    "        while left <= right:\n",
    "            midway = (left + right) // 2\n",
    "\n",
    "            if target > matrix[row][midway]:\n",
    "                left = midway + 1\n",
    "            elif target < matrix[row][midway]:\n",
    "                right = midway - 1\n",
    "            else:\n",
    "                return True\n",
    "\n",
    "        return False"
   ],
   "metadata": {
    "collapsed": false
   }
  },
  {
   "cell_type": "code",
   "execution_count": 5,
   "outputs": [
    {
     "data": {
      "text/plain": "True"
     },
     "execution_count": 5,
     "metadata": {},
     "output_type": "execute_result"
    }
   ],
   "source": [
    "# Testcases\n",
    "solution = Solution()\n",
    "matrix_1 = [[1,3,5,7],[10,11,16,20],[23,30,34,60]]\n",
    "target = 5\n",
    "\n",
    "solution.searchMatrix(matrix_1, target)"
   ],
   "metadata": {
    "collapsed": false
   }
  }
 ],
 "metadata": {
  "kernelspec": {
   "display_name": "Python 3",
   "language": "python",
   "name": "python3"
  },
  "language_info": {
   "codemirror_mode": {
    "name": "ipython",
    "version": 2
   },
   "file_extension": ".py",
   "mimetype": "text/x-python",
   "name": "python",
   "nbconvert_exporter": "python",
   "pygments_lexer": "ipython2",
   "version": "2.7.6"
  }
 },
 "nbformat": 4,
 "nbformat_minor": 0
}
