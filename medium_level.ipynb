{
 "cells": [
  {
   "cell_type": "markdown",
   "source": [
    "# Leetcode medium algorithms"
   ],
   "metadata": {
    "collapsed": false
   }
  },
  {
   "cell_type": "code",
   "execution_count": 1,
   "outputs": [],
   "source": [
    "# General imports\n",
    "from typing import List, Optional"
   ],
   "metadata": {
    "collapsed": false,
    "ExecuteTime": {
     "end_time": "2023-06-23T12:21:03.491399Z",
     "start_time": "2023-06-23T12:21:03.487869Z"
    }
   }
  },
  {
   "cell_type": "markdown",
   "source": [
    "# 0074. Search a 2D Matrix\n",
    "[Link to a problem](https://leetcode.com/problems/search-a-2d-matrix/)\n",
    "\n",
    "First, I am implementing inefficient solution, where we do the search on each row. Time complexity is O(m*log(n))."
   ],
   "metadata": {
    "collapsed": false
   }
  },
  {
   "cell_type": "code",
   "execution_count": 2,
   "outputs": [],
   "source": [
    "class Solution:\n",
    "    def searchMatrix(self, matrix: List[List[int]], target: int) -> bool:\n",
    "\n",
    "        for row in matrix:\n",
    "            left, right = 0, len(row)-1\n",
    "\n",
    "            while left <= right:\n",
    "                midway = left + ((right - left) // 2)\n",
    "\n",
    "                if row[midway] > target:\n",
    "                    right = midway - 1\n",
    "                elif row[midway] < target:\n",
    "                    left = midway + 1\n",
    "                elif row[midway] == target:\n",
    "                    return True\n",
    "                else:\n",
    "                    continue\n",
    "        return False"
   ],
   "metadata": {
    "collapsed": false
   }
  },
  {
   "cell_type": "code",
   "execution_count": 3,
   "outputs": [
    {
     "data": {
      "text/plain": "True"
     },
     "execution_count": 3,
     "metadata": {},
     "output_type": "execute_result"
    }
   ],
   "source": [
    "# Testcases\n",
    "solution = Solution()\n",
    "matrix_1 = [[1,3,5,7],[10,11,16,20],[23,30,34,60]]\n",
    "target = 5\n",
    "\n",
    "solution.searchMatrix(matrix_1, target)"
   ],
   "metadata": {
    "collapsed": false
   }
  },
  {
   "cell_type": "markdown",
   "source": [
    "Efficient solution is where we do binary search on whole matrix and then do binary search on specific row."
   ],
   "metadata": {
    "collapsed": false
   }
  },
  {
   "cell_type": "code",
   "execution_count": 4,
   "outputs": [],
   "source": [
    "class Solution:\n",
    "    def searchMatrix(self, matrix: List[List[int]], target: int) -> bool:\n",
    "        ROWS, COLS = len(matrix), len(matrix[0])\n",
    "\n",
    "        top_row, bottom_row = 0, ROWS - 1\n",
    "\n",
    "        while top_row <= bottom_row:\n",
    "            middle_row = (top_row + bottom_row) // 2\n",
    "\n",
    "            if target > matrix[middle_row][-1]: # lookup for the largest value in a row\n",
    "                bottom_row = middle_row + 1\n",
    "            elif target < matrix[middle_row][0]: # lookup for the smallest value in a row\n",
    "                top_row = middle_row - 1\n",
    "            else:\n",
    "                break\n",
    "\n",
    "        if not (top_row <= bottom_row):\n",
    "            return False\n",
    "        row = (top_row + bottom_row) // 2\n",
    "        left, right = 0, COLS - 1\n",
    "\n",
    "        while left <= right:\n",
    "            midway = (left + right) // 2\n",
    "\n",
    "            if target > matrix[row][midway]:\n",
    "                left = midway + 1\n",
    "            elif target < matrix[row][midway]:\n",
    "                right = midway - 1\n",
    "            else:\n",
    "                return True\n",
    "\n",
    "        return False"
   ],
   "metadata": {
    "collapsed": false
   }
  },
  {
   "cell_type": "code",
   "execution_count": 5,
   "outputs": [
    {
     "data": {
      "text/plain": "True"
     },
     "execution_count": 5,
     "metadata": {},
     "output_type": "execute_result"
    }
   ],
   "source": [
    "# Testcases\n",
    "solution = Solution()\n",
    "matrix_1 = [[1,3,5,7],[10,11,16,20],[23,30,34,60]]\n",
    "target = 5\n",
    "\n",
    "solution.searchMatrix(matrix_1, target)"
   ],
   "metadata": {
    "collapsed": false
   }
  },
  {
   "cell_type": "markdown",
   "source": [
    "## 0543. Diameter of Binary Tree\n",
    "[Link to the problem](https://leetcode.com/problems/diameter-of-binary-tree/)"
   ],
   "metadata": {
    "collapsed": false
   }
  },
  {
   "cell_type": "code",
   "execution_count": 3,
   "outputs": [],
   "source": [
    "from collections import deque\n",
    "# Definition for a binary tree node.\n",
    "class TreeNode:\n",
    "    def __init__(self, val=0, left=None, right=None):\n",
    "        self.val = val\n",
    "        self.left = left\n",
    "        self.right = right\n",
    "\n",
    "class Solution:\n",
    "    def diameterOfBinaryTree(self, root: Optional[TreeNode]) -> int:\n",
    "        result = [0]\n",
    "\n",
    "        def dfs(root):\n",
    "            if not root:\n",
    "                return -1\n",
    "            left = dfs(root.left)\n",
    "            right = dfs(root.right)\n",
    "\n",
    "            result[0] = max(result[0], 2 + left + right)\n",
    "\n",
    "        dfs(root)\n",
    "        return result[0]\n",
    "\n"
   ],
   "metadata": {
    "collapsed": false,
    "ExecuteTime": {
     "end_time": "2023-06-23T12:45:08.029766Z",
     "start_time": "2023-06-23T12:45:08.023208Z"
    }
   }
  },
  {
   "cell_type": "code",
   "execution_count": 89,
   "outputs": [],
   "source": [
    "class Solution:\n",
    "    def isValid(self, s: str):\n",
    "        stack = []\n",
    "        close_to_open = {\n",
    "            \"{\": \"}\",\n",
    "            \"[\": \"]\",\n",
    "            \"(\": \")\"\n",
    "        }\n",
    "\n",
    "        for char in s:\n",
    "            if char in close_to_open:\n",
    "                if stack and stack[-1] == close_to_open[char]:\n",
    "                    stack.pop()\n",
    "                else:\n",
    "                    return False\n",
    "            else:\n",
    "                stack\n",
    "\n",
    "\n",
    "        return True if not stack else False"
   ],
   "metadata": {
    "collapsed": false,
    "ExecuteTime": {
     "end_time": "2023-06-23T15:04:53.674611Z",
     "start_time": "2023-06-23T15:04:53.666437Z"
    }
   }
  },
  {
   "cell_type": "code",
   "execution_count": 90,
   "outputs": [
    {
     "ename": "KeyError",
     "evalue": "'}'",
     "output_type": "error",
     "traceback": [
      "\u001B[0;31m---------------------------------------------------------------------------\u001B[0m",
      "\u001B[0;31mKeyError\u001B[0m                                  Traceback (most recent call last)",
      "Cell \u001B[0;32mIn[90], line 2\u001B[0m\n\u001B[1;32m      1\u001B[0m s \u001B[38;5;241m=\u001B[39m \u001B[38;5;124m\"\u001B[39m\u001B[38;5;124m{{\u001B[39m\u001B[38;5;124m}}\u001B[39m\u001B[38;5;124m\"\u001B[39m\n\u001B[0;32m----> 2\u001B[0m solution \u001B[38;5;241m=\u001B[39m \u001B[43mSolution\u001B[49m\u001B[43m(\u001B[49m\u001B[43m)\u001B[49m\u001B[38;5;241;43m.\u001B[39;49m\u001B[43misValid\u001B[49m\u001B[43m(\u001B[49m\u001B[43ms\u001B[49m\u001B[43m)\u001B[49m\n\u001B[1;32m      3\u001B[0m \u001B[38;5;28mprint\u001B[39m(solution)\n",
      "Cell \u001B[0;32mIn[89], line 11\u001B[0m, in \u001B[0;36mSolution.isValid\u001B[0;34m(self, s)\u001B[0m\n\u001B[1;32m      4\u001B[0m close_to_open \u001B[38;5;241m=\u001B[39m {\n\u001B[1;32m      5\u001B[0m     \u001B[38;5;124m\"\u001B[39m\u001B[38;5;124m{\u001B[39m\u001B[38;5;124m\"\u001B[39m: \u001B[38;5;124m\"\u001B[39m\u001B[38;5;124m}\u001B[39m\u001B[38;5;124m\"\u001B[39m,\n\u001B[1;32m      6\u001B[0m     \u001B[38;5;124m\"\u001B[39m\u001B[38;5;124m[\u001B[39m\u001B[38;5;124m\"\u001B[39m: \u001B[38;5;124m\"\u001B[39m\u001B[38;5;124m]\u001B[39m\u001B[38;5;124m\"\u001B[39m,\n\u001B[1;32m      7\u001B[0m     \u001B[38;5;124m\"\u001B[39m\u001B[38;5;124m(\u001B[39m\u001B[38;5;124m\"\u001B[39m: \u001B[38;5;124m\"\u001B[39m\u001B[38;5;124m)\u001B[39m\u001B[38;5;124m\"\u001B[39m\n\u001B[1;32m      8\u001B[0m }\n\u001B[1;32m     10\u001B[0m \u001B[38;5;28;01mfor\u001B[39;00m char \u001B[38;5;129;01min\u001B[39;00m s:\n\u001B[0;32m---> 11\u001B[0m     \u001B[38;5;28;01mif\u001B[39;00m stack \u001B[38;5;129;01mand\u001B[39;00m stack[\u001B[38;5;241m-\u001B[39m\u001B[38;5;241m1\u001B[39m] \u001B[38;5;241m==\u001B[39m \u001B[43mclose_to_open\u001B[49m\u001B[43m[\u001B[49m\u001B[43mchar\u001B[49m\u001B[43m]\u001B[49m:\n\u001B[1;32m     12\u001B[0m         stack\u001B[38;5;241m.\u001B[39mpop()\n\u001B[1;32m     13\u001B[0m     \u001B[38;5;28;01melif\u001B[39;00m char \u001B[38;5;129;01min\u001B[39;00m close_to_open:\n",
      "\u001B[0;31mKeyError\u001B[0m: '}'"
     ]
    }
   ],
   "source": [
    "s = \"{{}}\"\n",
    "solution = Solution().isValid(s)\n",
    "print(solution)"
   ],
   "metadata": {
    "collapsed": false,
    "ExecuteTime": {
     "end_time": "2023-06-23T15:04:54.015233Z",
     "start_time": "2023-06-23T15:04:54.004367Z"
    }
   }
  },
  {
   "cell_type": "markdown",
   "source": [
    "# 0012. Integer to Roman\n",
    "[Link to the problem](https://leetcode.com/problems/integer-to-roman/description/)"
   ],
   "metadata": {
    "collapsed": false
   }
  },
  {
   "cell_type": "code",
   "execution_count": null,
   "outputs": [],
   "source": [
    "class Solution:\n",
    "    def intToRoman(self, num: int) -> str:\n",
    "        roman_to_int = [\n",
    "            [\"I\", 1],\n",
    "            [\"IV\", 4],\n",
    "            [\"V\", 5],\n",
    "            [\"IX\", 9],\n",
    "            [\"X\", 10],\n",
    "            [\"XL\", 40],\n",
    "            [\"L\", 50],\n",
    "            [\"XC\", 90],\n",
    "            [\"C\", 100],\n",
    "            [\"CD\", 400],\n",
    "            [\"D\", 500],\n",
    "            [\"CM\", 900],\n",
    "            [\"M\", 1000],\n",
    "        ]\n",
    "        roman = str()\n",
    "\n",
    "        for symbol, value in reversed(roman_to_int):\n",
    "            if num // value:\n",
    "                count = num // value\n",
    "                roman += (symbol * count)\n",
    "                num = num % value\n",
    "\n",
    "        return roman\n"
   ],
   "metadata": {
    "collapsed": false
   }
  },
  {
   "cell_type": "markdown",
   "source": [
    "# 0003. Longest Substring Without Repeating Characters\n",
    "[Link to the problem](https://leetcode.com/problems/longest-substring-without-repeating-characters/)\n"
   ],
   "metadata": {
    "collapsed": false
   }
  },
  {
   "cell_type": "code",
   "execution_count": 10,
   "outputs": [],
   "source": [
    "class Solution:\n",
    "    def lengthOfLongestSubstring(self, s: str) -> int:\n",
    "\n",
    "        max_count = int()\n",
    "        count = int()\n",
    "        sub_str_array = []\n",
    "\n",
    "        for index in range(len(s)):\n",
    "            print(index, len(s)-1)\n",
    "\n",
    "            if s[index] not in sub_str_array:\n",
    "                count += 1\n",
    "                sub_str_array.append(s[index])\n",
    "\n",
    "                if index == len(s)-1 and count > max_count:\n",
    "                    max_count = count\n",
    "\n",
    "\n",
    "            elif s[index] in sub_str_array:\n",
    "                sub_str_array = []\n",
    "\n",
    "                if count > max_count:\n",
    "                    max_count = count\n",
    "                    count = 0\n",
    "\n",
    "        return max_count\n",
    "\n",
    "\n",
    "\n"
   ],
   "metadata": {
    "collapsed": false,
    "ExecuteTime": {
     "end_time": "2023-06-27T13:12:24.892514Z",
     "start_time": "2023-06-27T13:12:24.887973Z"
    }
   }
  },
  {
   "cell_type": "code",
   "execution_count": 11,
   "outputs": [
    {
     "name": "stdout",
     "output_type": "stream",
     "text": [
      "0 5\n",
      "1 5\n",
      "2 5\n",
      "3 5\n",
      "4 5\n",
      "5 5\n",
      "3\n"
     ]
    }
   ],
   "source": [
    "string = \"pwwkew\"\n",
    "\n",
    "solution = Solution().lengthOfLongestSubstring(string)\n",
    "print(solution)"
   ],
   "metadata": {
    "collapsed": false,
    "ExecuteTime": {
     "end_time": "2023-06-27T13:12:25.347908Z",
     "start_time": "2023-06-27T13:12:25.345385Z"
    }
   }
  },
  {
   "cell_type": "code",
   "execution_count": null,
   "outputs": [],
   "source": [],
   "metadata": {
    "collapsed": false
   }
  }
 ],
 "metadata": {
  "kernelspec": {
   "display_name": "Python 3",
   "language": "python",
   "name": "python3"
  },
  "language_info": {
   "codemirror_mode": {
    "name": "ipython",
    "version": 2
   },
   "file_extension": ".py",
   "mimetype": "text/x-python",
   "name": "python",
   "nbconvert_exporter": "python",
   "pygments_lexer": "ipython2",
   "version": "2.7.6"
  }
 },
 "nbformat": 4,
 "nbformat_minor": 0
}
