{
 "cells": [
  {
   "cell_type": "markdown",
   "source": [
    "# Leetcode medium algorithms"
   ],
   "metadata": {
    "collapsed": false
   }
  },
  {
   "cell_type": "code",
   "execution_count": 1,
   "outputs": [],
   "source": [
    "# General imports\n",
    "from typing import List, Optional"
   ],
   "metadata": {
    "collapsed": false,
    "ExecuteTime": {
     "end_time": "2023-08-02T06:45:23.690018Z",
     "start_time": "2023-08-02T06:45:23.684232Z"
    }
   }
  },
  {
   "cell_type": "markdown",
   "source": [
    "# 0074. Search a 2D Matrix\n",
    "[Link to a problem](https://leetcode.com/problems/search-a-2d-matrix/)\n",
    "\n",
    "First, I am implementing inefficient solution, where we do the search on each row. Time complexity is O(m*log(n))."
   ],
   "metadata": {
    "collapsed": false
   }
  },
  {
   "cell_type": "code",
   "execution_count": 2,
   "outputs": [],
   "source": [
    "class Solution:\n",
    "    def searchMatrix(self, matrix: List[List[int]], target: int) -> bool:\n",
    "\n",
    "        for row in matrix:\n",
    "            left, right = 0, len(row)-1\n",
    "\n",
    "            while left <= right:\n",
    "                midway = left + ((right - left) // 2)\n",
    "\n",
    "                if row[midway] > target:\n",
    "                    right = midway - 1\n",
    "                elif row[midway] < target:\n",
    "                    left = midway + 1\n",
    "                elif row[midway] == target:\n",
    "                    return True\n",
    "                else:\n",
    "                    continue\n",
    "        return False"
   ],
   "metadata": {
    "collapsed": false
   }
  },
  {
   "cell_type": "code",
   "execution_count": 3,
   "outputs": [
    {
     "data": {
      "text/plain": "True"
     },
     "execution_count": 3,
     "metadata": {},
     "output_type": "execute_result"
    }
   ],
   "source": [
    "# Testcases\n",
    "solution = Solution()\n",
    "matrix_1 = [[1,3,5,7],[10,11,16,20],[23,30,34,60]]\n",
    "target = 5\n",
    "\n",
    "solution.searchMatrix(matrix_1, target)"
   ],
   "metadata": {
    "collapsed": false
   }
  },
  {
   "cell_type": "markdown",
   "source": [
    "Efficient solution is where we do binary search on whole matrix and then do binary search on specific row."
   ],
   "metadata": {
    "collapsed": false
   }
  },
  {
   "cell_type": "code",
   "execution_count": 4,
   "outputs": [],
   "source": [
    "class Solution:\n",
    "    def searchMatrix(self, matrix: List[List[int]], target: int) -> bool:\n",
    "        ROWS, COLS = len(matrix), len(matrix[0])\n",
    "\n",
    "        top_row, bottom_row = 0, ROWS - 1\n",
    "\n",
    "        while top_row <= bottom_row:\n",
    "            middle_row = (top_row + bottom_row) // 2\n",
    "\n",
    "            if target > matrix[middle_row][-1]: # lookup for the largest value in a row\n",
    "                bottom_row = middle_row + 1\n",
    "            elif target < matrix[middle_row][0]: # lookup for the smallest value in a row\n",
    "                top_row = middle_row - 1\n",
    "            else:\n",
    "                break\n",
    "\n",
    "        if not (top_row <= bottom_row):\n",
    "            return False\n",
    "        row = (top_row + bottom_row) // 2\n",
    "        left, right = 0, COLS - 1\n",
    "\n",
    "        while left <= right:\n",
    "            midway = (left + right) // 2\n",
    "\n",
    "            if target > matrix[row][midway]:\n",
    "                left = midway + 1\n",
    "            elif target < matrix[row][midway]:\n",
    "                right = midway - 1\n",
    "            else:\n",
    "                return True\n",
    "\n",
    "        return False"
   ],
   "metadata": {
    "collapsed": false
   }
  },
  {
   "cell_type": "code",
   "execution_count": 5,
   "outputs": [
    {
     "data": {
      "text/plain": "True"
     },
     "execution_count": 5,
     "metadata": {},
     "output_type": "execute_result"
    }
   ],
   "source": [
    "# Testcases\n",
    "solution = Solution()\n",
    "matrix_1 = [[1,3,5,7],[10,11,16,20],[23,30,34,60]]\n",
    "target = 5\n",
    "\n",
    "solution.searchMatrix(matrix_1, target)"
   ],
   "metadata": {
    "collapsed": false
   }
  },
  {
   "cell_type": "markdown",
   "source": [
    "## 0543. Diameter of Binary Tree\n",
    "[Link to the problem](https://leetcode.com/problems/diameter-of-binary-tree/)"
   ],
   "metadata": {
    "collapsed": false
   }
  },
  {
   "cell_type": "code",
   "execution_count": 3,
   "outputs": [],
   "source": [
    "from collections import deque\n",
    "# Definition for a binary tree node.\n",
    "class TreeNode:\n",
    "    def __init__(self, val=0, left=None, right=None):\n",
    "        self.val = val\n",
    "        self.left = left\n",
    "        self.right = right\n",
    "\n",
    "class Solution:\n",
    "    def diameterOfBinaryTree(self, root: Optional[TreeNode]) -> int:\n",
    "        result = [0]\n",
    "\n",
    "        def dfs(root):\n",
    "            if not root:\n",
    "                return -1\n",
    "            left = dfs(root.left)\n",
    "            right = dfs(root.right)\n",
    "\n",
    "            result[0] = max(result[0], 2 + left + right)\n",
    "\n",
    "        dfs(root)\n",
    "        return result[0]\n",
    "\n"
   ],
   "metadata": {
    "collapsed": false,
    "ExecuteTime": {
     "end_time": "2023-06-23T12:45:08.029766Z",
     "start_time": "2023-06-23T12:45:08.023208Z"
    }
   }
  },
  {
   "cell_type": "code",
   "execution_count": 89,
   "outputs": [],
   "source": [
    "class Solution:\n",
    "    def isValid(self, s: str):\n",
    "        stack = []\n",
    "        close_to_open = {\n",
    "            \"{\": \"}\",\n",
    "            \"[\": \"]\",\n",
    "            \"(\": \")\"\n",
    "        }\n",
    "\n",
    "        for char in s:\n",
    "            if char in close_to_open:\n",
    "                if stack and stack[-1] == close_to_open[char]:\n",
    "                    stack.pop()\n",
    "                else:\n",
    "                    return False\n",
    "            else:\n",
    "                stack\n",
    "\n",
    "\n",
    "        return True if not stack else False"
   ],
   "metadata": {
    "collapsed": false,
    "ExecuteTime": {
     "end_time": "2023-06-23T15:04:53.674611Z",
     "start_time": "2023-06-23T15:04:53.666437Z"
    }
   }
  },
  {
   "cell_type": "code",
   "execution_count": 90,
   "outputs": [
    {
     "ename": "KeyError",
     "evalue": "'}'",
     "output_type": "error",
     "traceback": [
      "\u001B[0;31m---------------------------------------------------------------------------\u001B[0m",
      "\u001B[0;31mKeyError\u001B[0m                                  Traceback (most recent call last)",
      "Cell \u001B[0;32mIn[90], line 2\u001B[0m\n\u001B[1;32m      1\u001B[0m s \u001B[38;5;241m=\u001B[39m \u001B[38;5;124m\"\u001B[39m\u001B[38;5;124m{{\u001B[39m\u001B[38;5;124m}}\u001B[39m\u001B[38;5;124m\"\u001B[39m\n\u001B[0;32m----> 2\u001B[0m solution \u001B[38;5;241m=\u001B[39m \u001B[43mSolution\u001B[49m\u001B[43m(\u001B[49m\u001B[43m)\u001B[49m\u001B[38;5;241;43m.\u001B[39;49m\u001B[43misValid\u001B[49m\u001B[43m(\u001B[49m\u001B[43ms\u001B[49m\u001B[43m)\u001B[49m\n\u001B[1;32m      3\u001B[0m \u001B[38;5;28mprint\u001B[39m(solution)\n",
      "Cell \u001B[0;32mIn[89], line 11\u001B[0m, in \u001B[0;36mSolution.isValid\u001B[0;34m(self, s)\u001B[0m\n\u001B[1;32m      4\u001B[0m close_to_open \u001B[38;5;241m=\u001B[39m {\n\u001B[1;32m      5\u001B[0m     \u001B[38;5;124m\"\u001B[39m\u001B[38;5;124m{\u001B[39m\u001B[38;5;124m\"\u001B[39m: \u001B[38;5;124m\"\u001B[39m\u001B[38;5;124m}\u001B[39m\u001B[38;5;124m\"\u001B[39m,\n\u001B[1;32m      6\u001B[0m     \u001B[38;5;124m\"\u001B[39m\u001B[38;5;124m[\u001B[39m\u001B[38;5;124m\"\u001B[39m: \u001B[38;5;124m\"\u001B[39m\u001B[38;5;124m]\u001B[39m\u001B[38;5;124m\"\u001B[39m,\n\u001B[1;32m      7\u001B[0m     \u001B[38;5;124m\"\u001B[39m\u001B[38;5;124m(\u001B[39m\u001B[38;5;124m\"\u001B[39m: \u001B[38;5;124m\"\u001B[39m\u001B[38;5;124m)\u001B[39m\u001B[38;5;124m\"\u001B[39m\n\u001B[1;32m      8\u001B[0m }\n\u001B[1;32m     10\u001B[0m \u001B[38;5;28;01mfor\u001B[39;00m char \u001B[38;5;129;01min\u001B[39;00m s:\n\u001B[0;32m---> 11\u001B[0m     \u001B[38;5;28;01mif\u001B[39;00m stack \u001B[38;5;129;01mand\u001B[39;00m stack[\u001B[38;5;241m-\u001B[39m\u001B[38;5;241m1\u001B[39m] \u001B[38;5;241m==\u001B[39m \u001B[43mclose_to_open\u001B[49m\u001B[43m[\u001B[49m\u001B[43mchar\u001B[49m\u001B[43m]\u001B[49m:\n\u001B[1;32m     12\u001B[0m         stack\u001B[38;5;241m.\u001B[39mpop()\n\u001B[1;32m     13\u001B[0m     \u001B[38;5;28;01melif\u001B[39;00m char \u001B[38;5;129;01min\u001B[39;00m close_to_open:\n",
      "\u001B[0;31mKeyError\u001B[0m: '}'"
     ]
    }
   ],
   "source": [
    "s = \"{{}}\"\n",
    "solution = Solution().isValid(s)\n",
    "print(solution)"
   ],
   "metadata": {
    "collapsed": false,
    "ExecuteTime": {
     "end_time": "2023-06-23T15:04:54.015233Z",
     "start_time": "2023-06-23T15:04:54.004367Z"
    }
   }
  },
  {
   "cell_type": "markdown",
   "source": [
    "# 0012. Integer to Roman\n",
    "[Link to the problem](https://leetcode.com/problems/integer-to-roman/description/)"
   ],
   "metadata": {
    "collapsed": false
   }
  },
  {
   "cell_type": "code",
   "execution_count": null,
   "outputs": [],
   "source": [
    "class Solution:\n",
    "    def intToRoman(self, num: int) -> str:\n",
    "        roman_to_int = [\n",
    "            [\"I\", 1],\n",
    "            [\"IV\", 4],\n",
    "            [\"V\", 5],\n",
    "            [\"IX\", 9],\n",
    "            [\"X\", 10],\n",
    "            [\"XL\", 40],\n",
    "            [\"L\", 50],\n",
    "            [\"XC\", 90],\n",
    "            [\"C\", 100],\n",
    "            [\"CD\", 400],\n",
    "            [\"D\", 500],\n",
    "            [\"CM\", 900],\n",
    "            [\"M\", 1000],\n",
    "        ]\n",
    "        roman = str()\n",
    "\n",
    "        for symbol, value in reversed(roman_to_int):\n",
    "            if num // value:\n",
    "                count = num // value\n",
    "                roman += (symbol * count)\n",
    "                num = num % value\n",
    "\n",
    "        return roman\n"
   ],
   "metadata": {
    "collapsed": false
   }
  },
  {
   "cell_type": "markdown",
   "source": [
    "# 0003. Longest Substring Without Repeating Characters\n",
    "[Link to the problem](https://leetcode.com/problems/longest-substring-without-repeating-characters/)\n"
   ],
   "metadata": {
    "collapsed": false
   }
  },
  {
   "cell_type": "code",
   "execution_count": 10,
   "outputs": [],
   "source": [
    "class Solution:\n",
    "    def lengthOfLongestSubstring(self, s: str) -> int:\n",
    "\n",
    "        max_count = int()\n",
    "        count = int()\n",
    "        sub_str_array = []\n",
    "\n",
    "        for index in range(len(s)):\n",
    "            print(index, len(s)-1)\n",
    "\n",
    "            if s[index] not in sub_str_array:\n",
    "                count += 1\n",
    "                sub_str_array.append(s[index])\n",
    "\n",
    "                if index == len(s)-1 and count > max_count:\n",
    "                    max_count = count\n",
    "\n",
    "\n",
    "            elif s[index] in sub_str_array:\n",
    "                sub_str_array = []\n",
    "\n",
    "                if count > max_count:\n",
    "                    max_count = count\n",
    "                    count = 0\n",
    "\n",
    "        return max_count\n",
    "\n",
    "\n",
    "\n"
   ],
   "metadata": {
    "collapsed": false,
    "ExecuteTime": {
     "end_time": "2023-06-27T13:12:24.892514Z",
     "start_time": "2023-06-27T13:12:24.887973Z"
    }
   }
  },
  {
   "cell_type": "code",
   "execution_count": 11,
   "outputs": [
    {
     "name": "stdout",
     "output_type": "stream",
     "text": [
      "0 5\n",
      "1 5\n",
      "2 5\n",
      "3 5\n",
      "4 5\n",
      "5 5\n",
      "3\n"
     ]
    }
   ],
   "source": [
    "string = \"pwwkew\"\n",
    "\n",
    "solution = Solution().lengthOfLongestSubstring(string)\n",
    "print(solution)"
   ],
   "metadata": {
    "collapsed": false,
    "ExecuteTime": {
     "end_time": "2023-06-27T13:12:25.347908Z",
     "start_time": "2023-06-27T13:12:25.345385Z"
    }
   }
  },
  {
   "cell_type": "markdown",
   "source": [
    "# Merge Sort\n",
    "[Link to a problem](https://leetcode.com/problems/merge-sorted-array/)"
   ],
   "metadata": {
    "collapsed": false
   }
  },
  {
   "cell_type": "code",
   "execution_count": 1,
   "outputs": [
    {
     "ename": "NameError",
     "evalue": "name 'List' is not defined",
     "output_type": "error",
     "traceback": [
      "\u001B[0;31m---------------------------------------------------------------------------\u001B[0m",
      "\u001B[0;31mNameError\u001B[0m                                 Traceback (most recent call last)",
      "Cell \u001B[0;32mIn[1], line 1\u001B[0m\n\u001B[0;32m----> 1\u001B[0m \u001B[38;5;28;01mclass\u001B[39;00m \u001B[38;5;21;01mSolution\u001B[39;00m:\n\u001B[1;32m      2\u001B[0m     \u001B[38;5;28;01mdef\u001B[39;00m \u001B[38;5;21mmerge\u001B[39m(\u001B[38;5;28mself\u001B[39m, nums1: List[\u001B[38;5;28mint\u001B[39m], m: \u001B[38;5;28mint\u001B[39m, nums2: List[\u001B[38;5;28mint\u001B[39m], n: \u001B[38;5;28mint\u001B[39m) \u001B[38;5;241m-\u001B[39m\u001B[38;5;241m>\u001B[39m \u001B[38;5;28;01mNone\u001B[39;00m:\n\u001B[1;32m      3\u001B[0m         temp \u001B[38;5;241m=\u001B[39m []\n",
      "Cell \u001B[0;32mIn[1], line 2\u001B[0m, in \u001B[0;36mSolution\u001B[0;34m()\u001B[0m\n\u001B[1;32m      1\u001B[0m \u001B[38;5;28;01mclass\u001B[39;00m \u001B[38;5;21;01mSolution\u001B[39;00m:\n\u001B[0;32m----> 2\u001B[0m     \u001B[38;5;28;01mdef\u001B[39;00m \u001B[38;5;21mmerge\u001B[39m(\u001B[38;5;28mself\u001B[39m, nums1: \u001B[43mList\u001B[49m[\u001B[38;5;28mint\u001B[39m], m: \u001B[38;5;28mint\u001B[39m, nums2: List[\u001B[38;5;28mint\u001B[39m], n: \u001B[38;5;28mint\u001B[39m) \u001B[38;5;241m-\u001B[39m\u001B[38;5;241m>\u001B[39m \u001B[38;5;28;01mNone\u001B[39;00m:\n\u001B[1;32m      3\u001B[0m         temp \u001B[38;5;241m=\u001B[39m []\n\u001B[1;32m      5\u001B[0m         p1, p2 \u001B[38;5;241m=\u001B[39m \u001B[38;5;241m0\u001B[39m, \u001B[38;5;241m0\u001B[39m\n",
      "\u001B[0;31mNameError\u001B[0m: name 'List' is not defined"
     ]
    }
   ],
   "source": [
    "class Solution:\n",
    "    def merge(self, nums1: List[int], m: int, nums2: List[int], n: int) -> None:\n",
    "        # Get last index of nums1\n",
    "        last = m + n - 1\n",
    "\n",
    "        # merge in reverse order\n",
    "        while m > 0 and n > 0:\n",
    "            if nums1[m - 1] > nums2[n - 1]:\n",
    "                nums1[last] = nums1[m - 1]\n",
    "                m = m -1\n",
    "            else:\n",
    "                nums1[last] = nums2[n -1]\n",
    "                n = n -1\n",
    "\n",
    "            last = last - 1\n",
    "\n",
    "        # if there is some number left in nums2, insert this number in nums1\n",
    "        while n > 0:\n",
    "            nums1[last] = nums2[n - 1]\n",
    "            n, last = n - 1, last - 1\n",
    "\n"
   ],
   "metadata": {
    "collapsed": false,
    "ExecuteTime": {
     "end_time": "2023-07-11T06:19:57.246910Z",
     "start_time": "2023-07-11T06:19:56.945558Z"
    }
   }
  },
  {
   "cell_type": "code",
   "execution_count": 4,
   "outputs": [
    {
     "name": "stdout",
     "output_type": "stream",
     "text": [
      "([0, 1, 3], 0)\n"
     ]
    }
   ],
   "source": [
    "data = ([0,1], 0)\n",
    "\n",
    "data[0].append(3)\n",
    "print(data)"
   ],
   "metadata": {
    "collapsed": false,
    "ExecuteTime": {
     "end_time": "2023-07-11T09:30:24.974706Z",
     "start_time": "2023-07-11T09:30:24.968381Z"
    }
   }
  },
  {
   "cell_type": "markdown",
   "source": [
    "# 0155. Min Stack\n",
    "[Link to the problem](https://leetcode.com/problems/min-stack/)"
   ],
   "metadata": {
    "collapsed": false
   }
  },
  {
   "cell_type": "code",
   "execution_count": 1,
   "outputs": [],
   "source": [
    "class MinStack:\n",
    "\n",
    "    def __init__(self):\n",
    "        self.stack = []\n",
    "        self.min_stack = []\n",
    "\n",
    "    def push(self, val: int) -> None:\n",
    "        self.stack.append(val)\n",
    "        min_val = min(val, self.min_stack[-1] if self.min_stack else val)\n",
    "        self.min_stack.append(min_val)\n",
    "\n",
    "    def pop(self) -> None:\n",
    "        self.stack.pop()\n",
    "        self.min_stack.pop()\n",
    "\n",
    "    def top(self) -> int:\n",
    "        return self.stack[-1]\n",
    "\n",
    "    def getMin(self) -> int:\n",
    "        return self.min_stack[-1]"
   ],
   "metadata": {
    "collapsed": false,
    "ExecuteTime": {
     "end_time": "2023-07-20T06:16:57.585503Z",
     "start_time": "2023-07-20T06:16:57.581140Z"
    }
   }
  },
  {
   "cell_type": "markdown",
   "source": [
    "# 0022. Generate Parentheses\n",
    "[Link to the problem]()"
   ],
   "metadata": {
    "collapsed": false
   }
  },
  {
   "cell_type": "code",
   "execution_count": 1,
   "outputs": [
    {
     "ename": "NameError",
     "evalue": "name 'List' is not defined",
     "output_type": "error",
     "traceback": [
      "\u001B[0;31m---------------------------------------------------------------------------\u001B[0m",
      "\u001B[0;31mNameError\u001B[0m                                 Traceback (most recent call last)",
      "Cell \u001B[0;32mIn[1], line 1\u001B[0m\n\u001B[0;32m----> 1\u001B[0m \u001B[38;5;28;01mclass\u001B[39;00m \u001B[38;5;21;01mSolution\u001B[39;00m:\n\u001B[1;32m      2\u001B[0m     \u001B[38;5;28;01mdef\u001B[39;00m \u001B[38;5;21mgenerateParenthesis\u001B[39m(\u001B[38;5;28mself\u001B[39m, n: \u001B[38;5;28mint\u001B[39m) \u001B[38;5;241m-\u001B[39m\u001B[38;5;241m>\u001B[39m List[\u001B[38;5;28mstr\u001B[39m]:\n\u001B[1;32m      4\u001B[0m         stack \u001B[38;5;241m=\u001B[39m []\n",
      "Cell \u001B[0;32mIn[1], line 2\u001B[0m, in \u001B[0;36mSolution\u001B[0;34m()\u001B[0m\n\u001B[1;32m      1\u001B[0m \u001B[38;5;28;01mclass\u001B[39;00m \u001B[38;5;21;01mSolution\u001B[39;00m:\n\u001B[0;32m----> 2\u001B[0m     \u001B[38;5;28;01mdef\u001B[39;00m \u001B[38;5;21mgenerateParenthesis\u001B[39m(\u001B[38;5;28mself\u001B[39m, n: \u001B[38;5;28mint\u001B[39m) \u001B[38;5;241m-\u001B[39m\u001B[38;5;241m>\u001B[39m \u001B[43mList\u001B[49m[\u001B[38;5;28mstr\u001B[39m]:\n\u001B[1;32m      4\u001B[0m         stack \u001B[38;5;241m=\u001B[39m []\n\u001B[1;32m      5\u001B[0m         result \u001B[38;5;241m=\u001B[39m []\n",
      "\u001B[0;31mNameError\u001B[0m: name 'List' is not defined"
     ]
    }
   ],
   "source": [
    "class Solution:\n",
    "    def generateParenthesis(self, n: int) -> List[str]:\n",
    "\n",
    "        stack = []\n",
    "        result = []\n",
    "\n",
    "        def generate(open_n, closed_n):\n",
    "            if open_n == closed_n == n:\n",
    "                result.append(''.join(stack))\n",
    "                return\n",
    "\n",
    "            if open_n < n:\n",
    "                stack.append('(')\n",
    "                generate(open_n + 1, closed_n)\n",
    "                stack.pop()\n",
    "\n",
    "            if open_n > closed_n:\n",
    "                stack.append(')')\n",
    "                generate(open_n, closed_n + 1)\n",
    "                stack.pop()\n",
    "\n",
    "        generate(0, 0)\n",
    "        return result"
   ],
   "metadata": {
    "collapsed": false,
    "ExecuteTime": {
     "end_time": "2023-07-25T06:18:19.094675Z",
     "start_time": "2023-07-25T06:18:18.796978Z"
    }
   }
  },
  {
   "cell_type": "markdown",
   "source": [
    "# 0347. Top K Frequent Elements\n",
    "[Link to the problem](https://leetcode.com/problems/top-k-frequent-elements/)\n",
    "\n",
    "We could use heap and get $O(k \\log{n})$. But we will use more simplistic approach, counting occurrences in hashmap, using bucket sort to sort occurrences and iterating backwards through sorted occurrences to get top k frequent element. This approach will give us $O(n)$  in time complexity."
   ],
   "metadata": {
    "collapsed": false
   }
  },
  {
   "cell_type": "code",
   "execution_count": 5,
   "outputs": [],
   "source": [
    "class Solution:\n",
    "    def topKFrequent(self, nums: List[int], k: int) -> List[int]:\n",
    "        count = {}  # counting hashmap\n",
    "        freq = [[] for i in range(len(nums)+1)]  # frequency array\n",
    "        result = []\n",
    "\n",
    "        # count all occurrences\n",
    "        for n in nums:\n",
    "            count[n] = 1 + count.get(n ,0)\n",
    "\n",
    "        # bucket sort thing:\n",
    "        #   index: frequency of occurrence,\n",
    "        #   value: numbers list, which occurs index (freq) times.\n",
    "        for n, c in count.items():\n",
    "            freq[c].append(n)  # number n occurs c number of times\n",
    "\n",
    "\n",
    "        # iteration:\n",
    "        #   len(freq) - 1: last index of freq,\n",
    "        #   0: go all the way up until 0,\n",
    "        #   -1: decrement, descending order.\n",
    "        for i in range(len(freq) - 1, 0, -1):\n",
    "\n",
    "            # iterate through sublist at given index\n",
    "            for n in freq[i]:\n",
    "                result.append(n)\n",
    "\n",
    "                if len(result) == k:\n",
    "                    return result"
   ],
   "metadata": {
    "collapsed": false,
    "ExecuteTime": {
     "end_time": "2023-07-25T06:35:14.347114Z",
     "start_time": "2023-07-25T06:35:14.331952Z"
    }
   }
  },
  {
   "cell_type": "markdown",
   "source": [
    "# 0049. Group Anagrams\n",
    "[Link to the problem](https://leetcode.com/problems/group-anagrams/)\n",
    "\n",
    "Here is the $O(m * n)$ solution, where m — the size of an strs array and n — the average size of string in the array."
   ],
   "metadata": {
    "collapsed": false
   }
  },
  {
   "cell_type": "code",
   "execution_count": 2,
   "outputs": [],
   "source": [
    "from collections import defaultdict\n",
    "\n",
    "\n",
    "class Solution:\n",
    "    def groupAnagrams(self, strs: List[str]) -> List[List[str]]:\n",
    "        result = defaultdict(list)\n",
    "\n",
    "        for item in strs:\n",
    "            count = [0] * 26  # a-z\n",
    "\n",
    "            for char in item:\n",
    "                count[ord(char) - ord('a')] += 1\n",
    "                print(ord(char) - ord('a'))\n",
    "\n",
    "            # we use tuple here because of python — it doesn't allow arrays to be the keys.\n",
    "            # tuple however is immutable and can be used as dict key.\n",
    "            result[tuple(count)].append(item)\n",
    "\n",
    "        return result.values()"
   ],
   "metadata": {
    "collapsed": false,
    "ExecuteTime": {
     "end_time": "2023-08-02T06:45:27.946902Z",
     "start_time": "2023-08-02T06:45:27.934078Z"
    }
   }
  },
  {
   "cell_type": "code",
   "execution_count": 7,
   "outputs": [
    {
     "name": "stdout",
     "output_type": "stream",
     "text": [
      "4\n",
      "0\n",
      "19\n",
      "defaultdict(<class 'list'>, {(1, 0, 0, 0, 1, 0, 0, 0, 0, 0, 0, 0, 0, 0, 0, 0, 0, 0, 0, 1, 0, 0, 0, 0, 0, 0): ['eat']})\n",
      "19\n",
      "4\n",
      "0\n",
      "defaultdict(<class 'list'>, {(1, 0, 0, 0, 1, 0, 0, 0, 0, 0, 0, 0, 0, 0, 0, 0, 0, 0, 0, 1, 0, 0, 0, 0, 0, 0): ['eat', 'tea']})\n",
      "19\n",
      "0\n",
      "13\n",
      "defaultdict(<class 'list'>, {(1, 0, 0, 0, 1, 0, 0, 0, 0, 0, 0, 0, 0, 0, 0, 0, 0, 0, 0, 1, 0, 0, 0, 0, 0, 0): ['eat', 'tea'], (1, 0, 0, 0, 0, 0, 0, 0, 0, 0, 0, 0, 0, 1, 0, 0, 0, 0, 0, 1, 0, 0, 0, 0, 0, 0): ['tan']})\n",
      "0\n",
      "19\n",
      "4\n",
      "defaultdict(<class 'list'>, {(1, 0, 0, 0, 1, 0, 0, 0, 0, 0, 0, 0, 0, 0, 0, 0, 0, 0, 0, 1, 0, 0, 0, 0, 0, 0): ['eat', 'tea', 'ate'], (1, 0, 0, 0, 0, 0, 0, 0, 0, 0, 0, 0, 0, 1, 0, 0, 0, 0, 0, 1, 0, 0, 0, 0, 0, 0): ['tan']})\n",
      "13\n",
      "0\n",
      "19\n",
      "defaultdict(<class 'list'>, {(1, 0, 0, 0, 1, 0, 0, 0, 0, 0, 0, 0, 0, 0, 0, 0, 0, 0, 0, 1, 0, 0, 0, 0, 0, 0): ['eat', 'tea', 'ate'], (1, 0, 0, 0, 0, 0, 0, 0, 0, 0, 0, 0, 0, 1, 0, 0, 0, 0, 0, 1, 0, 0, 0, 0, 0, 0): ['tan', 'nat']})\n",
      "1\n",
      "0\n",
      "19\n",
      "defaultdict(<class 'list'>, {(1, 0, 0, 0, 1, 0, 0, 0, 0, 0, 0, 0, 0, 0, 0, 0, 0, 0, 0, 1, 0, 0, 0, 0, 0, 0): ['eat', 'tea', 'ate'], (1, 0, 0, 0, 0, 0, 0, 0, 0, 0, 0, 0, 0, 1, 0, 0, 0, 0, 0, 1, 0, 0, 0, 0, 0, 0): ['tan', 'nat'], (1, 1, 0, 0, 0, 0, 0, 0, 0, 0, 0, 0, 0, 0, 0, 0, 0, 0, 0, 1, 0, 0, 0, 0, 0, 0): ['bat']})\n",
      "dict_values([['eat', 'tea', 'ate'], ['tan', 'nat'], ['bat']])\n",
      "defaultdict(<class 'list'>, {})\n"
     ]
    }
   ],
   "source": [
    "strs = [\"eat\",\"tea\",\"tan\",\"ate\",\"nat\",\"bat\"]\n",
    "\n",
    "solution = Solution().groupAnagrams(strs)\n",
    "print(solution)"
   ],
   "metadata": {
    "collapsed": false,
    "ExecuteTime": {
     "end_time": "2023-07-28T06:55:32.736184Z",
     "start_time": "2023-07-28T06:55:32.729374Z"
    }
   }
  },
  {
   "cell_type": "markdown",
   "source": [
    "# 0226. Invert Binary Tree\n",
    "[Link to the problem](https://leetcode.com/problems/invert-binary-tree/description/)\n",
    "\n",
    "First attempt will be with direct approach. Second one will be recursive."
   ],
   "metadata": {
    "collapsed": false
   }
  },
  {
   "cell_type": "code",
   "execution_count": 7,
   "outputs": [],
   "source": [
    "# Direct approach.\n",
    "# Definition for a binary tree node.\n",
    "class TreeNode:\n",
    "    def __init__(self, val=0, left=None, right=None):\n",
    "        self.val = val\n",
    "        self.left = left\n",
    "        self.right = right\n",
    "        \n",
    "        \n",
    "class Solution:\n",
    "    def invertTree(self, root: Optional[TreeNode]) -> Optional[TreeNode]:\n",
    "        if not root:\n",
    "            return None\n",
    "\n",
    "        node_set = set()\n",
    "        node_set.add(root)\n",
    "        \n",
    "        while node_set:\n",
    "            curr: TreeNode = node_set.pop()\n",
    "            \n",
    "            if not curr:\n",
    "                continue\n",
    "                \n",
    "            curr.left, curr.right = curr.right, curr.left\n",
    "            \n",
    "            node_set.update([curr.left, curr.right])\n",
    "            \n",
    "        return root\n",
    "            "
   ],
   "metadata": {
    "collapsed": false,
    "ExecuteTime": {
     "end_time": "2023-08-02T07:13:25.438967Z",
     "start_time": "2023-08-02T07:13:25.427164Z"
    }
   }
  },
  {
   "cell_type": "code",
   "execution_count": 5,
   "outputs": [],
   "source": [
    "# Recursive approach.\n",
    "\n",
    "# Definition for a binary tree node.\n",
    "class TreeNode:\n",
    "    def __init__(self, val=0, left=None, right=None):\n",
    "        self.val = val\n",
    "        self.left = left\n",
    "        self.right = right\n",
    "        \n",
    "        \n",
    "class Solution:\n",
    "    def invertTree(self, root: Optional[TreeNode]) -> Optional[TreeNode]:\n",
    "        if not root:\n",
    "            return None\n",
    "\n",
    "        temporary = root.left\n",
    "        root.left = root.right\n",
    "        root.right = temporary\n",
    "\n",
    "        self.invertTree(root.left)\n",
    "        self.invertTree(root.right)\n",
    "\n",
    "        return root\n",
    "        "
   ],
   "metadata": {
    "collapsed": false,
    "ExecuteTime": {
     "end_time": "2023-08-02T06:57:44.657622Z",
     "start_time": "2023-08-02T06:57:44.649350Z"
    }
   }
  },
  {
   "cell_type": "markdown",
   "source": [
    "# 0104. Maximum Depth of Binary Tree\n",
    "[Link to the problem](https://leetcode.com/problems/maximum-depth-of-binary-tree/)\n",
    "\n",
    "3 ways to solve this problem with same time and space complexity $O(n)$"
   ],
   "metadata": {
    "collapsed": false
   }
  },
  {
   "cell_type": "code",
   "execution_count": 1,
   "outputs": [
    {
     "ename": "NameError",
     "evalue": "name 'Optional' is not defined",
     "output_type": "error",
     "traceback": [
      "\u001B[0;31m---------------------------------------------------------------------------\u001B[0m",
      "\u001B[0;31mNameError\u001B[0m                                 Traceback (most recent call last)",
      "Cell \u001B[0;32mIn[1], line 9\u001B[0m\n\u001B[1;32m      1\u001B[0m \u001B[38;5;66;03m# DFS (Depth For Search) — recursion.\u001B[39;00m\n\u001B[1;32m      2\u001B[0m \n\u001B[1;32m      3\u001B[0m \u001B[38;5;66;03m# Definition for a binary tree node.\u001B[39;00m\n\u001B[0;32m   (...)\u001B[0m\n\u001B[1;32m      7\u001B[0m \u001B[38;5;66;03m#         self.left = left\u001B[39;00m\n\u001B[1;32m      8\u001B[0m \u001B[38;5;66;03m#         self.right = right\u001B[39;00m\n\u001B[0;32m----> 9\u001B[0m \u001B[38;5;28;01mclass\u001B[39;00m \u001B[38;5;21;01mSolution\u001B[39;00m:\n\u001B[1;32m     10\u001B[0m     \u001B[38;5;28;01mdef\u001B[39;00m \u001B[38;5;21mmaxDepth\u001B[39m(\u001B[38;5;28mself\u001B[39m, root: Optional[TreeNode]) \u001B[38;5;241m-\u001B[39m\u001B[38;5;241m>\u001B[39m \u001B[38;5;28mint\u001B[39m:\n\u001B[1;32m     11\u001B[0m         \u001B[38;5;28;01mif\u001B[39;00m \u001B[38;5;129;01mnot\u001B[39;00m root:\n",
      "Cell \u001B[0;32mIn[1], line 10\u001B[0m, in \u001B[0;36mSolution\u001B[0;34m()\u001B[0m\n\u001B[1;32m      9\u001B[0m \u001B[38;5;28;01mclass\u001B[39;00m \u001B[38;5;21;01mSolution\u001B[39;00m:\n\u001B[0;32m---> 10\u001B[0m     \u001B[38;5;28;01mdef\u001B[39;00m \u001B[38;5;21mmaxDepth\u001B[39m(\u001B[38;5;28mself\u001B[39m, root: \u001B[43mOptional\u001B[49m[TreeNode]) \u001B[38;5;241m-\u001B[39m\u001B[38;5;241m>\u001B[39m \u001B[38;5;28mint\u001B[39m:\n\u001B[1;32m     11\u001B[0m         \u001B[38;5;28;01mif\u001B[39;00m \u001B[38;5;129;01mnot\u001B[39;00m root:\n\u001B[1;32m     12\u001B[0m             \u001B[38;5;28;01mreturn\u001B[39;00m \u001B[38;5;241m0\u001B[39m\n",
      "\u001B[0;31mNameError\u001B[0m: name 'Optional' is not defined"
     ]
    }
   ],
   "source": [
    "# 1. DFS (Depth For Search) — recursion.\n",
    "\n",
    "# Definition for a binary tree node.\n",
    "# class TreeNode:\n",
    "#     def __init__(self, val=0, left=None, right=None):\n",
    "#         self.val = val\n",
    "#         self.left = left\n",
    "#         self.right = right\n",
    "\n",
    "class Solution:\n",
    "    def maxDepth(self, root: Optional[TreeNode]) -> int:\n",
    "        if not root:\n",
    "            return 0\n",
    "        \n",
    "        return 1 + max(self.maxDepth(root.left), self.maxDepth(root.right))"
   ],
   "metadata": {
    "collapsed": false,
    "ExecuteTime": {
     "end_time": "2023-08-08T06:40:17.889562Z",
     "start_time": "2023-08-08T06:40:17.580015Z"
    }
   }
  },
  {
   "cell_type": "code",
   "execution_count": null,
   "outputs": [],
   "source": [
    "# 2. BFS (Breadth For Search) — iterative way.\n",
    "# We are traversing level by level.\n",
    "\n",
    "# Definition for a binary tree node.\n",
    "# class TreeNode:\n",
    "#     def __init__(self, val=0, left=None, right=None):\n",
    "#         self.val = val\n",
    "#         self.left = left\n",
    "#         self.right = right\n",
    "\n",
    "class Solution:\n",
    "    def maxDepth(self, root: Optional[TreeNode]) -> int:\n",
    "        if not root:\n",
    "            return 0\n",
    "        \n",
    "        level = 0\n",
    "        q = deque([root])\n",
    "        \n",
    "        while q:\n",
    "            for i in range(len(q)):\n",
    "                node = q.popleft()\n",
    "                \n",
    "                if node.left:\n",
    "                    q.append(node.left)\n",
    "                if node.right:\n",
    "                    q.append(node.right)\n",
    "                \n",
    "            level += 1\n",
    "        \n",
    "        return level"
   ],
   "metadata": {
    "collapsed": false
   }
  },
  {
   "cell_type": "code",
   "execution_count": null,
   "outputs": [],
   "source": [
    "# 3. DFS (Depth For Search) — iterative way.\n",
    "\n",
    "# Definition for a binary tree node.\n",
    "# class TreeNode:\n",
    "#     def __init__(self, val=0, left=None, right=None):\n",
    "#         self.val = val\n",
    "#         self.left = left\n",
    "#         self.right = right\n",
    "\n",
    "class Solution:\n",
    "    def maxDepth(self, root: Optional[TreeNode]) -> int:\n",
    "        \n",
    "        stack = [[root, 1]]\n",
    "        res = 0\n",
    "        \n",
    "        while stack:\n",
    "            node, depth = stack.pop()\n",
    "            \n",
    "            if node:\n",
    "                res = max(res, depth)\n",
    "                stack.append([node.left, depth+1])\n",
    "                stack.append([node.right, depth+1])\n",
    "        \n",
    "        return res"
   ],
   "metadata": {
    "collapsed": false
   }
  }
 ],
 "metadata": {
  "kernelspec": {
   "display_name": "Python 3",
   "language": "python",
   "name": "python3"
  },
  "language_info": {
   "codemirror_mode": {
    "name": "ipython",
    "version": 2
   },
   "file_extension": ".py",
   "mimetype": "text/x-python",
   "name": "python",
   "nbconvert_exporter": "python",
   "pygments_lexer": "ipython2",
   "version": "2.7.6"
  }
 },
 "nbformat": 4,
 "nbformat_minor": 0
}
