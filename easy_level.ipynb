{
 "cells": [
  {
   "cell_type": "markdown",
   "source": [
    "# Leetcode easy algorithms"
   ],
   "metadata": {
    "collapsed": false
   }
  },
  {
   "cell_type": "code",
   "execution_count": 3,
   "outputs": [],
   "source": [
    "# General imports\n",
    "from typing import List"
   ],
   "metadata": {
    "collapsed": false,
    "ExecuteTime": {
     "end_time": "2023-06-26T15:44:11.690489Z",
     "start_time": "2023-06-26T15:44:11.679718Z"
    }
   }
  },
  {
   "cell_type": "markdown",
   "source": [
    "## 0217. Contains Duplicates\n",
    "[Link to the problem](https://leetcode.com/problems/contains-duplicate/)\n",
    "\n",
    "We solve this problem using set structure. Set can contain only unique items.\n",
    "Here we just return True if the number of values in nums' array is equal the number of values in nums' set."
   ],
   "metadata": {
    "collapsed": false
   }
  },
  {
   "cell_type": "code",
   "execution_count": 3,
   "outputs": [],
   "source": [
    "class Solution:\n",
    "    def containsDuplicate(self, nums: List[int]) -> bool:\n",
    "        return len(nums) != len(set(nums))"
   ],
   "metadata": {
    "collapsed": false,
    "ExecuteTime": {
     "end_time": "2023-06-23T07:44:13.934015Z",
     "start_time": "2023-06-23T07:44:13.930419Z"
    }
   }
  },
  {
   "cell_type": "code",
   "execution_count": 4,
   "outputs": [],
   "source": [
    "# Testcases\n",
    "# Feel free to add yours!\n",
    "solution = Solution()\n",
    "nums_1 = [1, 2, 3, 1]\n",
    "nums_2 = [1, 2, 3, 4]\n",
    "nums_3 = [1,1,1,3,3,4,3,2,4,2]\n",
    "\n",
    "for nums_arr in [nums_1, nums_2, nums_3]:\n",
    "    solution.containsDuplicate(nums_arr)"
   ],
   "metadata": {
    "collapsed": false,
    "ExecuteTime": {
     "end_time": "2023-06-23T07:44:16.825900Z",
     "start_time": "2023-06-23T07:44:16.813007Z"
    }
   }
  },
  {
   "cell_type": "markdown",
   "source": [
    "# 0242. Valid Anagram\n",
    "[Link to the problem](https://leetcode.com/problems/valid-anagram/)\n",
    "\n",
    "There are several ways to solve this problem.\n",
    "First, the most pythonic way is to use built-in Counter."
   ],
   "metadata": {
    "collapsed": false
   }
  },
  {
   "cell_type": "code",
   "execution_count": 13,
   "outputs": [],
   "source": [
    "from collections import Counter\n",
    "\n",
    "class Solution:\n",
    "    def isAnagram(self, s: str, t: str) -> bool:\n",
    "        return Counter(s) == Counter(t)"
   ],
   "metadata": {
    "collapsed": false
   }
  },
  {
   "cell_type": "code",
   "execution_count": 14,
   "outputs": [
    {
     "name": "stdout",
     "output_type": "stream",
     "text": [
      "True\n",
      "False\n",
      "True\n"
     ]
    }
   ],
   "source": [
    "# Testcases\n",
    "# Testcases\n",
    "solution = Solution()\n",
    "s_1, t_1 = \"anagram\", \"nagaram\"\n",
    "s_2, t_2 = \"rat\", \"car\"\n",
    "s_3, t_3 = \"\", \"\"\n",
    "\n",
    "for i in [(s_1, t_1), (s_2, t_2), (s_3, t_3)]:\n",
    "    print(solution.isAnagram(i[0], i[1]))"
   ],
   "metadata": {
    "collapsed": false
   }
  },
  {
   "cell_type": "markdown",
   "source": [
    "There is also a general way: which has complexity of O(s+t). Here we count characters by ourselves and then compair these counters."
   ],
   "metadata": {
    "collapsed": false
   }
  },
  {
   "cell_type": "code",
   "execution_count": 15,
   "outputs": [],
   "source": [
    "class Solution:\n",
    "    def isAnagram(self, s: str, t: str) -> bool:\n",
    "        if len(s) != len(t):\n",
    "            return False\n",
    "\n",
    "        counter_s, counter_t = {}, {}\n",
    "\n",
    "        for i in range(len(s)):\n",
    "            counter_s[s[i]] = 1 + counter_s.get(s[i], 0)\n",
    "            counter_t[t[i]] = 1 + counter_t.get(t[i], 0)\n",
    "\n",
    "        for char in counter_s:\n",
    "            if counter_s[char] != counter_t.get(char, 0):\n",
    "                return False\n",
    "\n",
    "        return True"
   ],
   "metadata": {
    "collapsed": false
   }
  },
  {
   "cell_type": "code",
   "execution_count": 16,
   "outputs": [
    {
     "name": "stdout",
     "output_type": "stream",
     "text": [
      "True\n",
      "False\n",
      "True\n"
     ]
    }
   ],
   "source": [
    "# Testcases\n",
    "solution = Solution()\n",
    "s_1, t_1 = \"anagram\", \"nagaram\"\n",
    "s_2, t_2 = \"rat\", \"car\"\n",
    "s_3, t_3 = \"\", \"\"\n",
    "\n",
    "for i in [(s_1, t_1), (s_2, t_2), (s_3, t_3)]:\n",
    "    print(solution.isAnagram(i[0], i[1]))"
   ],
   "metadata": {
    "collapsed": false
   }
  },
  {
   "cell_type": "markdown",
   "source": [
    "But we can also look at the problem in this way:\n",
    "If the strings ara anagram of each other, then their sorted characters will be equal.\n",
    "This is the most simple way with the complexity O(1)."
   ],
   "metadata": {
    "collapsed": false
   }
  },
  {
   "cell_type": "code",
   "execution_count": 17,
   "outputs": [],
   "source": [
    "class Solution:\n",
    "    def isAnagram(self, s: str, t: str) -> bool:\n",
    "       return sorted(s) == sorted(t)"
   ],
   "metadata": {
    "collapsed": false
   }
  },
  {
   "cell_type": "code",
   "execution_count": 18,
   "outputs": [
    {
     "name": "stdout",
     "output_type": "stream",
     "text": [
      "True\n",
      "False\n",
      "True\n"
     ]
    }
   ],
   "source": [
    "# Testcases\n",
    "solution = Solution()\n",
    "s_1, t_1 = \"anagram\", \"nagaram\"\n",
    "s_2, t_2 = \"rat\", \"car\"\n",
    "s_3, t_3 = \" \", \" \"\n",
    "\n",
    "for i in [(s_1, t_1), (s_2, t_2), (s_3, t_3)]:\n",
    "    print(solution.isAnagram(i[0], i[1]))"
   ],
   "metadata": {
    "collapsed": false
   }
  },
  {
   "cell_type": "markdown",
   "source": [
    "## 001. Two Sum\n",
    "[Link to the problem](https://leetcode.com/problems/two-sum/)\n",
    "\n",
    "The simplest solution is to use the hashmap structure to store differences between target and the number in the nums list.\n",
    "On each iteration we check if this difference is already in our hashmap and than return the index of this difference and index of the current number.\n",
    "The complexity is O(n)."
   ],
   "metadata": {
    "collapsed": false
   }
  },
  {
   "cell_type": "code",
   "execution_count": 19,
   "outputs": [],
   "source": [
    "class Solution:\n",
    "    def twoSum(self, nums: List[int], target: int) -> List[int]:\n",
    "        hash_map = {}\n",
    "\n",
    "        for index, number in enumerate(nums):\n",
    "            diff = target - number\n",
    "\n",
    "            if diff in hash_map:\n",
    "                return [hash_map[diff], index]\n",
    "\n",
    "            hash_map[number] = index"
   ],
   "metadata": {
    "collapsed": false
   }
  },
  {
   "cell_type": "code",
   "execution_count": 20,
   "outputs": [
    {
     "name": "stdout",
     "output_type": "stream",
     "text": [
      "None\n",
      "[1, 2]\n",
      "[0, 1]\n"
     ]
    }
   ],
   "source": [
    "# Testcases\n",
    "solution = Solution()\n",
    "nums_1 = [2,7,11,15]\n",
    "nums_2 = [3,2,4]\n",
    "nums_3 = [3, 3]\n",
    "target = 6\n",
    "\n",
    "for num in [nums_1, nums_2, nums_3]:\n",
    "    print(solution.twoSum(num, target))"
   ],
   "metadata": {
    "collapsed": false
   }
  },
  {
   "cell_type": "markdown",
   "source": [
    "# 0125. Valid Palindrome\n",
    "[Link to the problem](https://leetcode.com/problems/valid-palindrome/)\n",
    "\n",
    "Let's start with general solution. Time complexity: O(n), Memory: O(n+n)"
   ],
   "metadata": {
    "collapsed": false
   }
  },
  {
   "cell_type": "code",
   "execution_count": 21,
   "outputs": [],
   "source": [
    "class Solution:\n",
    "    def isPalindrome(self, s: str) -> bool:\n",
    "        new_string = str()\n",
    "\n",
    "        for char in s:\n",
    "            if char.isalnum():\n",
    "                new_string += char.lower()\n",
    "\n",
    "        return new_string == new_string[::-1]"
   ],
   "metadata": {
    "collapsed": false
   }
  },
  {
   "cell_type": "code",
   "execution_count": 22,
   "outputs": [
    {
     "name": "stdout",
     "output_type": "stream",
     "text": [
      "True\n",
      "False\n",
      "True\n"
     ]
    }
   ],
   "source": [
    "# Testcases\n",
    "solution = Solution()\n",
    "s_1 = \"A man, a plan, a canal: Panama\"\n",
    "s_2 = \"race a car\"\n",
    "s_3 = \" \"\n",
    "\n",
    "for s in [s_1, s_2, s_3]:\n",
    "    print(solution.isPalindrome(s))"
   ],
   "metadata": {
    "collapsed": false
   }
  },
  {
   "cell_type": "markdown",
   "source": [
    "And now let's try two pointers solution. Time: O(n), Memory: O(1). No extra memory needed because we've iterated through string only one time.\n",
    "Here we will use our own is_alpha_num function just in case someone asks you to right it by yourself, However python have isalnum() built-in, so feel free to use it."
   ],
   "metadata": {
    "collapsed": false
   }
  },
  {
   "cell_type": "code",
   "execution_count": 23,
   "outputs": [],
   "source": [
    "class Solution:\n",
    "    def isPalindrome(self, s: str) -> bool:\n",
    "        left, right = 0, len(s)-1\n",
    "\n",
    "        while left < right:\n",
    "            while left < right and not self.is_alpha_num(s[left]):\n",
    "                left += 1\n",
    "            while right > left and not self.is_alpha_num(s[right]):\n",
    "                right -= 1\n",
    "            if s[left].lower() != s[right].lower():\n",
    "                return False\n",
    "            left += 1\n",
    "            right -= 1\n",
    "        return True\n",
    "\n",
    "    def is_alpha_num(self, char):\n",
    "        return (ord('A') <= ord(char) <= ord('Z') or\n",
    "                ord('a') <= ord(char) <= ord('z') or\n",
    "                ord('0') <= ord(char) <= ord('9'))"
   ],
   "metadata": {
    "collapsed": false
   }
  },
  {
   "cell_type": "code",
   "execution_count": 24,
   "outputs": [
    {
     "name": "stdout",
     "output_type": "stream",
     "text": [
      "True\n",
      "False\n",
      "True\n"
     ]
    }
   ],
   "source": [
    "# Testcases\n",
    "solution = Solution()\n",
    "s_1 = \"A man, a plan, a canal: Panama\"\n",
    "s_2 = \"race a car\"\n",
    "s_3 = \" \"\n",
    "\n",
    "for s in [s_1, s_2, s_3]:\n",
    "    print(solution.isPalindrome(s))"
   ],
   "metadata": {
    "collapsed": false
   }
  },
  {
   "cell_type": "markdown",
   "source": [
    "# 0020. Valid Parentheses\n",
    "[Link to the problem](https://leetcode.com/problems/valid-parentheses/)\n",
    "\n",
    "To solve this problem we will use stack data structure. In python you can simply implement stack with a list."
   ],
   "metadata": {
    "collapsed": false
   }
  },
  {
   "cell_type": "code",
   "execution_count": 12,
   "outputs": [],
   "source": [
    "class Solution:\n",
    "    def isValid(self, s: str) -> bool:\n",
    "        stack = []\n",
    "        close_to_open = {\n",
    "            \")\": \"(\",\n",
    "            \"}\": \"{\",\n",
    "            \"]\": \"[\"\n",
    "        }\n",
    "\n",
    "        for char in s:\n",
    "            if char in close_to_open:\n",
    "                if stack and stack[-1] == close_to_open[char]:\n",
    "                    stack.pop()\n",
    "                else:\n",
    "                    return False\n",
    "            else:\n",
    "                stack.append(char)\n",
    "\n",
    "        return True if not stack else False\n"
   ],
   "metadata": {
    "collapsed": false
   }
  },
  {
   "cell_type": "code",
   "execution_count": 13,
   "outputs": [
    {
     "name": "stdout",
     "output_type": "stream",
     "text": [
      "False\n",
      "False\n",
      "True\n"
     ]
    }
   ],
   "source": [
    "# Testcases\n",
    "solution = Solution()\n",
    "s_1 = \"{{{[[]]}}}\"\n",
    "s_2 = \"(]\"\n",
    "s_3 = \"()[]{}\"\n",
    "\n",
    "for s in [s_1, s_2, s_3]:\n",
    "    print(solution.isValid(s))"
   ],
   "metadata": {
    "collapsed": false
   }
  },
  {
   "cell_type": "markdown",
   "source": [
    "# 0167. Two Sum II — Input Array Is Sorted\n",
    "[Link to the problem](https://leetcode.com/problems/two-sum-ii-input-array-is-sorted/)\n",
    "\n",
    "Unlike in Two Sum with unsorted array we cannot just create hashmap. We should provide O(1) memory complexity solution.\n",
    "That's why we will use two pointers to iterate through the array just once."
   ],
   "metadata": {
    "collapsed": false
   }
  },
  {
   "cell_type": "code",
   "execution_count": 27,
   "outputs": [],
   "source": [
    "class Solution:\n",
    "    def twoSum(self, numbers: List[int], target: int) -> List[int]:\n",
    "        left, right = 0, len(numbers)-1\n",
    "\n",
    "        while left < right:\n",
    "            current_sum = numbers[left] + numbers[right]\n",
    "\n",
    "            if current_sum > target:\n",
    "                right -= 1\n",
    "            elif current_sum < target:\n",
    "                left += 1\n",
    "            else:\n",
    "                return [left+1, right+1]\n",
    "\n",
    "        return []"
   ],
   "metadata": {
    "collapsed": false
   }
  },
  {
   "cell_type": "code",
   "execution_count": 28,
   "outputs": [
    {
     "data": {
      "text/plain": "[1, 2]"
     },
     "execution_count": 28,
     "metadata": {},
     "output_type": "execute_result"
    }
   ],
   "source": [
    "# Testcases\n",
    "solution = Solution()\n",
    "numbers_1 = [2,7,11,15]\n",
    "target_1 = 9\n",
    "\n",
    "solution.twoSum(numbers_1, target_1)"
   ],
   "metadata": {
    "collapsed": false
   }
  },
  {
   "cell_type": "markdown",
   "source": [
    "# 0704. Binary Search\n",
    "[Link to the problem](https://leetcode.com/problems/binary-search/)\n",
    "\n",
    "This algorithm should be with 0(log n) runtime complexity."
   ],
   "metadata": {
    "collapsed": false
   }
  },
  {
   "cell_type": "code",
   "execution_count": 1,
   "outputs": [
    {
     "ename": "NameError",
     "evalue": "name 'List' is not defined",
     "output_type": "error",
     "traceback": [
      "\u001B[0;31m---------------------------------------------------------------------------\u001B[0m",
      "\u001B[0;31mNameError\u001B[0m                                 Traceback (most recent call last)",
      "Cell \u001B[0;32mIn[1], line 1\u001B[0m\n\u001B[0;32m----> 1\u001B[0m \u001B[38;5;28;01mclass\u001B[39;00m \u001B[38;5;21;01mSolution\u001B[39;00m:\n\u001B[1;32m      2\u001B[0m     \u001B[38;5;28;01mdef\u001B[39;00m \u001B[38;5;21msearch\u001B[39m(\u001B[38;5;28mself\u001B[39m, nums: List[\u001B[38;5;28mint\u001B[39m], target: \u001B[38;5;28mint\u001B[39m) \u001B[38;5;241m-\u001B[39m\u001B[38;5;241m>\u001B[39m \u001B[38;5;28mint\u001B[39m:\n\u001B[1;32m      3\u001B[0m         left, right \u001B[38;5;241m=\u001B[39m \u001B[38;5;241m0\u001B[39m, \u001B[38;5;28mlen\u001B[39m(nums)\u001B[38;5;241m-\u001B[39m\u001B[38;5;241m1\u001B[39m\n",
      "Cell \u001B[0;32mIn[1], line 2\u001B[0m, in \u001B[0;36mSolution\u001B[0;34m()\u001B[0m\n\u001B[1;32m      1\u001B[0m \u001B[38;5;28;01mclass\u001B[39;00m \u001B[38;5;21;01mSolution\u001B[39;00m:\n\u001B[0;32m----> 2\u001B[0m     \u001B[38;5;28;01mdef\u001B[39;00m \u001B[38;5;21msearch\u001B[39m(\u001B[38;5;28mself\u001B[39m, nums: \u001B[43mList\u001B[49m[\u001B[38;5;28mint\u001B[39m], target: \u001B[38;5;28mint\u001B[39m) \u001B[38;5;241m-\u001B[39m\u001B[38;5;241m>\u001B[39m \u001B[38;5;28mint\u001B[39m:\n\u001B[1;32m      3\u001B[0m         left, right \u001B[38;5;241m=\u001B[39m \u001B[38;5;241m0\u001B[39m, \u001B[38;5;28mlen\u001B[39m(nums)\u001B[38;5;241m-\u001B[39m\u001B[38;5;241m1\u001B[39m\n\u001B[1;32m      5\u001B[0m         \u001B[38;5;28;01mwhile\u001B[39;00m left \u001B[38;5;241m<\u001B[39m\u001B[38;5;241m=\u001B[39m right:\n",
      "\u001B[0;31mNameError\u001B[0m: name 'List' is not defined"
     ]
    }
   ],
   "source": [
    "class Solution:\n",
    "    def search(self, nums: List[int], target: int) -> int:\n",
    "        left, right = 0, len(nums)-1\n",
    "\n",
    "        while left <= right:\n",
    "            midway = (left + right) // 2\n",
    "\n",
    "            if nums[midway] > target:\n",
    "                right = midway - 1\n",
    "\n",
    "            elif nums[midway] < target:\n",
    "                left = midway + 1\n",
    "\n",
    "            else:\n",
    "                return midway\n",
    "\n",
    "        return -1"
   ],
   "metadata": {
    "collapsed": false,
    "ExecuteTime": {
     "end_time": "2023-06-26T15:24:10.953438Z",
     "start_time": "2023-06-26T15:24:10.648064Z"
    }
   }
  },
  {
   "cell_type": "code",
   "execution_count": 30,
   "outputs": [],
   "source": [
    "# Testcases\n",
    "solution = Solution()\n",
    "\n",
    "nums = [-1,0,3,5,9,12]\n",
    "target_1 = 9\n",
    "target_2 = 2\n",
    "\n",
    "for target in [target_1, target_2]:\n",
    "    solution.search(nums, target)"
   ],
   "metadata": {
    "collapsed": false
   }
  },
  {
   "cell_type": "markdown",
   "source": [
    "There is another solution for finding the midway. In python integers are unbounded (pretty much infinetely large), but in some other popular programming languages you might encounter an overflow in calculation of the midway pointer. Example: nums array is large and left and right pointers sum is very close to 32-bit integer max (2^31). There is a way to fix that: we can calculate the midway point without adding left and right together.\n",
    "We will take the distance between them and then divide them by to — this will give us half of the distance between them. Then we should add them to the left index. This way it will never overflow."
   ],
   "metadata": {
    "collapsed": false
   }
  },
  {
   "cell_type": "code",
   "execution_count": 31,
   "outputs": [],
   "source": [
    "left, right = 0, len(nums) - 1\n",
    "midway = left + ((right - left) // 2)"
   ],
   "metadata": {
    "collapsed": false
   }
  },
  {
   "cell_type": "markdown",
   "source": [
    "# 0074. Search a 2D Matrix\n",
    "[Link to a problem](https://leetcode.com/problems/search-a-2d-matrix/)\n",
    "\n",
    "First, I am implementing inefficient solution, where we do the search on each row. Time complexity is O(m*log(n))."
   ],
   "metadata": {
    "collapsed": false
   }
  },
  {
   "cell_type": "code",
   "execution_count": 14,
   "outputs": [],
   "source": [
    "class Solution:\n",
    "    def searchMatrix(self, matrix: List[List[int]], target: int) -> bool:\n",
    "\n",
    "        for row in matrix:\n",
    "            left, right = 0, len(row)-1\n",
    "\n",
    "            while left <= right:\n",
    "                midway = left + ((right - left) // 2)\n",
    "\n",
    "                if row[midway] > target:\n",
    "                    right = midway - 1\n",
    "                elif row[midway] < target:\n",
    "                    left = midway + 1\n",
    "                elif row[midway] == target:\n",
    "                    return True\n",
    "                else:\n",
    "                    continue\n",
    "        return False"
   ],
   "metadata": {
    "collapsed": false,
    "ExecuteTime": {
     "end_time": "2023-06-26T15:46:58.801220Z",
     "start_time": "2023-06-26T15:46:58.792771Z"
    }
   }
  },
  {
   "cell_type": "code",
   "execution_count": 16,
   "outputs": [
    {
     "name": "stdout",
     "output_type": "stream",
     "text": [
      "4\n",
      "-1\n"
     ]
    }
   ],
   "source": [
    "# Testcases\n",
    "solution = Solution()\n",
    "matrix_1 = [[1,3,5,7],[10,11,16,20],[23,30,34,60]]\n",
    "target = 5\n",
    "\n",
    "solution.searchMatrix(matrix_1, target)"
   ],
   "metadata": {
    "collapsed": false,
    "ExecuteTime": {
     "end_time": "2023-06-26T15:47:07.178556Z",
     "start_time": "2023-06-26T15:47:07.171034Z"
    }
   }
  },
  {
   "cell_type": "markdown",
   "source": [
    "Efficient solution is where we do binary search on whole matrix and then do binary search on specific row."
   ],
   "metadata": {
    "collapsed": false
   }
  },
  {
   "cell_type": "code",
   "execution_count": 34,
   "outputs": [],
   "source": [
    "class Solution:\n",
    "    def searchMatrix(self, matrix: List[List[int]], target: int) -> bool:\n",
    "        ROWS, COLS = len(matrix), len(matrix[0])\n",
    "\n",
    "        top_row, bottom_row = 0, ROWS - 1\n",
    "\n",
    "        while top_row <= bottom_row:\n",
    "            middle_row = (top_row + bottom_row) // 2\n",
    "\n",
    "            if target > matrix[middle_row][-1]: # lookup for the largest value in a row\n",
    "                top_row = middle_row + 1\n",
    "            elif target < matrix[middle_row][0]: # lookup for the smallest value in a row\n",
    "                bottom_row = middle_row - 1\n",
    "            else:\n",
    "                break\n",
    "\n",
    "        if not (top_row <= bottom_row):\n",
    "            return False\n",
    "        row = (top_row + bottom_row) // 2\n",
    "        left, right = 0, COLS - 1\n",
    "\n",
    "        while left <= right:\n",
    "            midway = (left + right) // 2\n",
    "\n",
    "            if target > matrix[row][midway]:\n",
    "                left = midway + 1\n",
    "            elif target < matrix[row][midway]:\n",
    "                right = midway - 1\n",
    "            else:\n",
    "                return True\n",
    "\n",
    "        return False"
   ],
   "metadata": {
    "collapsed": false
   }
  },
  {
   "cell_type": "code",
   "execution_count": 36,
   "outputs": [
    {
     "data": {
      "text/plain": "True"
     },
     "execution_count": 36,
     "metadata": {},
     "output_type": "execute_result"
    }
   ],
   "source": [
    "# Testcases\n",
    "solution = Solution()\n",
    "matrix_1 = [[1,3,5,7],[10,11,16,20],[23,30,34,60]]\n",
    "target = 5\n",
    "\n",
    "solution.searchMatrix(matrix_1, target)"
   ],
   "metadata": {
    "collapsed": false
   }
  },
  {
   "cell_type": "markdown",
   "source": [
    "# 0412. FizzBuzz\n",
    "[Link to a problem](https://leetcode.com/problems/fizz-buzz/)"
   ],
   "metadata": {
    "collapsed": false
   }
  },
  {
   "cell_type": "code",
   "execution_count": 41,
   "outputs": [],
   "source": [
    "class Solution:\n",
    "    def fizzBuzz(self, n: int) -> List[str]:\n",
    "\n",
    "        answer = []\n",
    "\n",
    "        for number in range(1, n+1):\n",
    "            if number % 3 == 0 and number % 5 == 0:\n",
    "                answer.append('FizzBuzz')\n",
    "            elif number % 3 == 0:\n",
    "                answer.append('Fizz')\n",
    "            elif number % 5 == 0:\n",
    "                answer.append('Buzz')\n",
    "            else:\n",
    "                answer.append(str(number))\n",
    "\n",
    "        return answer"
   ],
   "metadata": {
    "collapsed": false
   }
  },
  {
   "cell_type": "code",
   "execution_count": 42,
   "outputs": [
    {
     "name": "stdout",
     "output_type": "stream",
     "text": [
      "['1', '2', 'Fizz', '4', 'Buzz', 'Fizz', '7', '8', 'Fizz', 'Buzz', '11', 'Fizz', '13', '14', 'FizzBuzz']\n"
     ]
    },
    {
     "data": {
      "text/plain": "['1',\n '2',\n 'Fizz',\n '4',\n 'Buzz',\n 'Fizz',\n '7',\n '8',\n 'Fizz',\n 'Buzz',\n '11',\n 'Fizz',\n '13',\n '14',\n 'FizzBuzz']"
     },
     "execution_count": 42,
     "metadata": {},
     "output_type": "execute_result"
    }
   ],
   "source": [
    "# Testcase\n",
    "solution = Solution()\n",
    "n = 15\n",
    "solution.fizzBuzz(n)"
   ],
   "metadata": {
    "collapsed": false
   }
  },
  {
   "cell_type": "markdown",
   "source": [
    "# Reversed Linked List\n",
    "[Link to a problem](https://leetcode.com/problems/reverse-linked-list/)\n",
    "\n",
    "Here for the first time we will use chaining concept. Time complexity is O(n), Memory is O(1) since we are not creating any new data structure."
   ],
   "metadata": {
    "collapsed": false
   }
  },
  {
   "cell_type": "code",
   "execution_count": 5,
   "outputs": [],
   "source": [
    "from typing import Optional\n",
    "\n",
    "# Definition for singly-linked list.\n",
    "class ListNode:\n",
    "    def __init__(self, val=0, next=None):\n",
    "        self.val = val\n",
    "        self.next = next\n",
    "\n",
    "class Solution:\n",
    "    def reverseList(self, head: Optional[ListNode]) -> Optional[ListNode]:\n",
    "        if not head:\n",
    "            return None\n",
    "\n",
    "        previous, current = None, head\n",
    "\n",
    "        while current:\n",
    "            next_list_node = current.next # saving next node before reversing the link\n",
    "            current.next = previous # assigning link to the next for previous node (or None)\n",
    "            previous = current # shifting left pointer to the right\n",
    "            current = next_list_node # shifting right pointer to the right\n",
    "\n",
    "        return previous # because right pointer is at None, and previous is at head\n"
   ],
   "metadata": {
    "collapsed": false
   }
  },
  {
   "cell_type": "code",
   "execution_count": 24,
   "outputs": [
    {
     "data": {
      "text/plain": "<__main__.ListNode at 0x7fddd876a680>"
     },
     "execution_count": 24,
     "metadata": {},
     "output_type": "execute_result"
    }
   ],
   "source": [
    "# Testcase\n",
    "class ListNode:\n",
    "    def __init__(self, val=0, next=None):\n",
    "        self.val = val\n",
    "        self.next = next\n",
    "\n",
    "solution = Solution()\n",
    "\n",
    "head = ListNode(\n",
    "    val=0,\n",
    "    next=None\n",
    ")\n",
    "current = head\n",
    "for i in range(1, 5):\n",
    "    current.next = ListNode(\n",
    "        val=i,\n",
    "        next=None\n",
    "    )\n",
    "    current = current.next\n",
    "\n",
    "solution.reverseList(head)"
   ],
   "metadata": {
    "collapsed": false
   }
  },
  {
   "cell_type": "markdown",
   "source": [
    "Here is also a recursive solution from neetcode.io. Time O(n), Memory O(n)."
   ],
   "metadata": {
    "collapsed": false
   }
  },
  {
   "cell_type": "code",
   "execution_count": 3,
   "outputs": [],
   "source": [
    "from typing import Optional\n",
    "\n",
    "# Definition for singly-linked list.\n",
    "class ListNode:\n",
    "    def __init__(self, val=0, next=None):\n",
    "        self.val = val\n",
    "        self.next = next\n",
    "\n",
    "class Solution:\n",
    "    def reverseList(self, head: Optional[ListNode]) -> Optional[ListNode]:\n",
    "        if not head:\n",
    "            return None\n",
    "\n",
    "        new_head = head\n",
    "        if head.next:\n",
    "            new_head = self.reverseList(head.next) # going deeper in linked list if there is a next node in our list\n",
    "            head.next.next = head # reverse a link from next node to head\n",
    "        head.next = None # first node in a list reversed to None\n",
    "\n",
    "        return new_head"
   ],
   "metadata": {
    "collapsed": false
   }
  },
  {
   "cell_type": "code",
   "execution_count": 25,
   "outputs": [
    {
     "data": {
      "text/plain": "<__main__.ListNode at 0x7fdde8a38c10>"
     },
     "execution_count": 25,
     "metadata": {},
     "output_type": "execute_result"
    }
   ],
   "source": [
    "# Testcase\n",
    "class ListNode:\n",
    "    def __init__(self, val=0, next=None):\n",
    "        self.val = val\n",
    "        self.next = next\n",
    "\n",
    "solution = Solution()\n",
    "\n",
    "head = ListNode(\n",
    "    val=0,\n",
    "    next=None\n",
    ")\n",
    "current = head\n",
    "for i in range(1, 5):\n",
    "    current.next = ListNode(\n",
    "        val=i,\n",
    "        next=None\n",
    "    )\n",
    "    current = current.next\n",
    "\n",
    "solution.reverseList(head)"
   ],
   "metadata": {
    "collapsed": false
   }
  },
  {
   "cell_type": "markdown",
   "source": [
    "# Design a HashMap\n",
    "[Link to a problem](https://leetcode.com/problems/design-hashmap/)\n",
    "\n",
    "I solve this with chaining concept, because it is simpler than open addressing. I will also use my own index by moding by a length of a hashmap"
   ],
   "metadata": {
    "collapsed": false
   }
  },
  {
   "cell_type": "code",
   "execution_count": 48,
   "outputs": [
    {
     "name": "stdout",
     "output_type": "stream",
     "text": [
      "[<__main__.ListNode object at 0x7f9050be6950>, <__main__.ListNode object at 0x7f9050be6bf0>, <__main__.ListNode object at 0x7f9050be6c50>, <__main__.ListNode object at 0x7f9050be77c0>, <__main__.ListNode object at 0x7f9050be7820>, <__main__.ListNode object at 0x7f9050be7880>, <__main__.ListNode object at 0x7f9050be78e0>, <__main__.ListNode object at 0x7f9050be7bb0>, <__main__.ListNode object at 0x7f9050be7c10>, <__main__.ListNode object at 0x7f9050be7c70>, <__main__.ListNode object at 0x7f9050be7cd0>, <__main__.ListNode object at 0x7f9050be7d30>, <__main__.ListNode object at 0x7f9050be7d90>, <__main__.ListNode object at 0x7f9050be7df0>, <__main__.ListNode object at 0x7f9050be7760>, <__main__.ListNode object at 0x7f9050be7700>, <__main__.ListNode object at 0x7f9050be76a0>, <__main__.ListNode object at 0x7f9050be7640>, <__main__.ListNode object at 0x7f9050be75e0>, <__main__.ListNode object at 0x7f9050be7580>, <__main__.ListNode object at 0x7f9050be7520>, <__main__.ListNode object at 0x7f9050be74c0>, <__main__.ListNode object at 0x7f907085bd30>, <__main__.ListNode object at 0x7f9070858c10>, <__main__.ListNode object at 0x7f907085a1a0>, <__main__.ListNode object at 0x7f907085ac50>, <__main__.ListNode object at 0x7f9070859900>, <__main__.ListNode object at 0x7f907085a350>, <__main__.ListNode object at 0x7f9070858dc0>, <__main__.ListNode object at 0x7f9070859a20>, <__main__.ListNode object at 0x7f9070858370>, <__main__.ListNode object at 0x7f907085a170>, <__main__.ListNode object at 0x7f907085b220>, <__main__.ListNode object at 0x7f907085af80>, <__main__.ListNode object at 0x7f907085b0a0>, <__main__.ListNode object at 0x7f9070858310>, <__main__.ListNode object at 0x7f9070858700>, <__main__.ListNode object at 0x7f9070859e70>, <__main__.ListNode object at 0x7f907085a8c0>, <__main__.ListNode object at 0x7f9070858b80>, <__main__.ListNode object at 0x7f9070858040>, <__main__.ListNode object at 0x7f90708589a0>, <__main__.ListNode object at 0x7f907085af20>, <__main__.ListNode object at 0x7f9070858ac0>, <__main__.ListNode object at 0x7f9070858100>, <__main__.ListNode object at 0x7f9070858130>, <__main__.ListNode object at 0x7f907085b9a0>, <__main__.ListNode object at 0x7f907085b5b0>, <__main__.ListNode object at 0x7f90708594b0>, <__main__.ListNode object at 0x7f907085b6d0>, <__main__.ListNode object at 0x7f9070859ae0>, <__main__.ListNode object at 0x7f9070858880>, <__main__.ListNode object at 0x7f907071e2f0>, <__main__.ListNode object at 0x7f907071ecb0>, <__main__.ListNode object at 0x7f907071fdc0>, <__main__.ListNode object at 0x7f907071d060>, <__main__.ListNode object at 0x7f907071f070>, <__main__.ListNode object at 0x7f907071efe0>, <__main__.ListNode object at 0x7f907071d210>, <__main__.ListNode object at 0x7f907071d240>, <__main__.ListNode object at 0x7f907071c2e0>, <__main__.ListNode object at 0x7f907071ece0>, <__main__.ListNode object at 0x7f9070851d80>, <__main__.ListNode object at 0x7f9070852230>, <__main__.ListNode object at 0x7f9070852e30>, <__main__.ListNode object at 0x7f9070853580>, <__main__.ListNode object at 0x7f9070851090>, <__main__.ListNode object at 0x7f9070853be0>, <__main__.ListNode object at 0x7f9070850b20>, <__main__.ListNode object at 0x7f9070850e20>, <__main__.ListNode object at 0x7f9070835c30>, <__main__.ListNode object at 0x7f9070835270>, <__main__.ListNode object at 0x7f9070835f30>, <__main__.ListNode object at 0x7f9070835840>, <__main__.ListNode object at 0x7f9070834130>, <__main__.ListNode object at 0x7f9070835060>, <__main__.ListNode object at 0x7f9070834280>, <__main__.ListNode object at 0x7f90708367a0>, <__main__.ListNode object at 0x7f9070834d00>, <__main__.ListNode object at 0x7f9070834730>, <__main__.ListNode object at 0x7f90708353f0>, <__main__.ListNode object at 0x7f90708361d0>, <__main__.ListNode object at 0x7f9070837e50>, <__main__.ListNode object at 0x7f9070837ee0>, <__main__.ListNode object at 0x7f90708341c0>, <__main__.ListNode object at 0x7f9070835a80>, <__main__.ListNode object at 0x7f90708355d0>, <__main__.ListNode object at 0x7f9070836200>, <__main__.ListNode object at 0x7f90708345b0>, <__main__.ListNode object at 0x7f90708355a0>, <__main__.ListNode object at 0x7f9070837f40>, <__main__.ListNode object at 0x7f9070835ff0>, <__main__.ListNode object at 0x7f90508270a0>, <__main__.ListNode object at 0x7f9050825f30>, <__main__.ListNode object at 0x7f9050bf6ec0>, <__main__.ListNode object at 0x7f9050bf6e60>, <__main__.ListNode object at 0x7f9050bf6e00>, <__main__.ListNode object at 0x7f9050bf6da0>, <__main__.ListNode object at 0x7f9050bf6d40>, <__main__.ListNode object at 0x7f9050bf6ce0>, <__main__.ListNode object at 0x7f9050bf6c80>, <__main__.ListNode object at 0x7f9050bf6c20>, <__main__.ListNode object at 0x7f9050bf6bc0>, <__main__.ListNode object at 0x7f9050bf6b60>, <__main__.ListNode object at 0x7f9050bf6b00>, <__main__.ListNode object at 0x7f9050bf6aa0>, <__main__.ListNode object at 0x7f9050bf6a10>, <__main__.ListNode object at 0x7f9050bf69b0>, <__main__.ListNode object at 0x7f9050bf6950>, <__main__.ListNode object at 0x7f9050bf68f0>, <__main__.ListNode object at 0x7f9050bf6890>, <__main__.ListNode object at 0x7f9050bf6830>, <__main__.ListNode object at 0x7f9050bf7100>, <__main__.ListNode object at 0x7f9050bf7160>, <__main__.ListNode object at 0x7f9050bf6f20>, <__main__.ListNode object at 0x7f9050bf67d0>, <__main__.ListNode object at 0x7f9050bf6770>, <__main__.ListNode object at 0x7f9050bf6710>, <__main__.ListNode object at 0x7f9050bf66b0>, <__main__.ListNode object at 0x7f9050bf6650>, <__main__.ListNode object at 0x7f9050bf65f0>, <__main__.ListNode object at 0x7f9050bf6590>, <__main__.ListNode object at 0x7f9050bf6530>, <__main__.ListNode object at 0x7f9050bf64d0>, <__main__.ListNode object at 0x7f9050bf6470>, <__main__.ListNode object at 0x7f9050bf6410>, <__main__.ListNode object at 0x7f9050bf63b0>, <__main__.ListNode object at 0x7f9050bf6350>, <__main__.ListNode object at 0x7f9050bf62f0>, <__main__.ListNode object at 0x7f9050bf6290>, <__main__.ListNode object at 0x7f9050bf6230>, <__main__.ListNode object at 0x7f9050bf61d0>, <__main__.ListNode object at 0x7f9050bf6170>, <__main__.ListNode object at 0x7f9050bf6110>, <__main__.ListNode object at 0x7f9050bf60b0>, <__main__.ListNode object at 0x7f9050bf6050>, <__main__.ListNode object at 0x7f9050bf5ff0>, <__main__.ListNode object at 0x7f9050bf5f90>, <__main__.ListNode object at 0x7f9050bf5f30>, <__main__.ListNode object at 0x7f9050bf5ed0>, <__main__.ListNode object at 0x7f9050bf5e70>, <__main__.ListNode object at 0x7f9050bf5e10>, <__main__.ListNode object at 0x7f9050bf5db0>, <__main__.ListNode object at 0x7f9050bf5d50>, <__main__.ListNode object at 0x7f9050bf5cf0>, <__main__.ListNode object at 0x7f9050bf5c90>, <__main__.ListNode object at 0x7f9050bf5c30>, <__main__.ListNode object at 0x7f9050bf5bd0>, <__main__.ListNode object at 0x7f9050bf5b70>, <__main__.ListNode object at 0x7f9050bf5b10>, <__main__.ListNode object at 0x7f9050bf5ab0>, <__main__.ListNode object at 0x7f9050bf5a50>, <__main__.ListNode object at 0x7f9050bf59f0>, <__main__.ListNode object at 0x7f9050bf5990>, <__main__.ListNode object at 0x7f9050bf5930>, <__main__.ListNode object at 0x7f9050bf58d0>, <__main__.ListNode object at 0x7f9050bf5870>, <__main__.ListNode object at 0x7f9050bf5810>, <__main__.ListNode object at 0x7f9050bf57b0>, <__main__.ListNode object at 0x7f9050bf5750>, <__main__.ListNode object at 0x7f9050bf56f0>, <__main__.ListNode object at 0x7f9050bf5690>, <__main__.ListNode object at 0x7f9050bf5630>, <__main__.ListNode object at 0x7f9050bf55d0>, <__main__.ListNode object at 0x7f9050bf5570>, <__main__.ListNode object at 0x7f9050bf5510>, <__main__.ListNode object at 0x7f9050bf54b0>, <__main__.ListNode object at 0x7f9050bf5450>, <__main__.ListNode object at 0x7f9050bf53f0>, <__main__.ListNode object at 0x7f9050bf5390>, <__main__.ListNode object at 0x7f9050bf5330>, <__main__.ListNode object at 0x7f9050bf52d0>, <__main__.ListNode object at 0x7f9050bf5270>, <__main__.ListNode object at 0x7f9050bf5210>, <__main__.ListNode object at 0x7f9050bf51b0>, <__main__.ListNode object at 0x7f9050bf5150>, <__main__.ListNode object at 0x7f9050bf50f0>, <__main__.ListNode object at 0x7f9050bf5090>, <__main__.ListNode object at 0x7f9050bf5030>, <__main__.ListNode object at 0x7f9050bf4fd0>, <__main__.ListNode object at 0x7f9050bf4f70>, <__main__.ListNode object at 0x7f9050bf4f10>, <__main__.ListNode object at 0x7f9050bf4eb0>, <__main__.ListNode object at 0x7f9050bf4e50>, <__main__.ListNode object at 0x7f9050bf4df0>, <__main__.ListNode object at 0x7f9050bf4d90>, <__main__.ListNode object at 0x7f9050bf4d30>, <__main__.ListNode object at 0x7f9050bf4cd0>, <__main__.ListNode object at 0x7f9050bf4c70>, <__main__.ListNode object at 0x7f9050bf4c10>, <__main__.ListNode object at 0x7f9050bf4bb0>, <__main__.ListNode object at 0x7f9050bf4b50>, <__main__.ListNode object at 0x7f9050bf4af0>, <__main__.ListNode object at 0x7f9050bf4a90>, <__main__.ListNode object at 0x7f9050bf4a30>, <__main__.ListNode object at 0x7f9050bf49d0>, <__main__.ListNode object at 0x7f9050bf4970>, <__main__.ListNode object at 0x7f9050bf4910>, <__main__.ListNode object at 0x7f9050bf48b0>, <__main__.ListNode object at 0x7f9050bf4850>, <__main__.ListNode object at 0x7f9050bf47f0>, <__main__.ListNode object at 0x7f9050bf4790>, <__main__.ListNode object at 0x7f9050bf4730>, <__main__.ListNode object at 0x7f9050bf46d0>, <__main__.ListNode object at 0x7f9050bf4670>, <__main__.ListNode object at 0x7f9050bf4610>, <__main__.ListNode object at 0x7f9050bf70a0>, <__main__.ListNode object at 0x7f9050bf7040>, <__main__.ListNode object at 0x7f9050bf6fe0>, <__main__.ListNode object at 0x7f9050bf6f80>, <__main__.ListNode object at 0x7f9050bf4070>, <__main__.ListNode object at 0x7f9050bf40d0>, <__main__.ListNode object at 0x7f9050bf4130>, <__main__.ListNode object at 0x7f9050bf4190>, <__main__.ListNode object at 0x7f9050bf41f0>, <__main__.ListNode object at 0x7f9050bf4250>, <__main__.ListNode object at 0x7f9050bf42b0>, <__main__.ListNode object at 0x7f9050bf4310>, <__main__.ListNode object at 0x7f9050bf4370>, <__main__.ListNode object at 0x7f9050bf43d0>, <__main__.ListNode object at 0x7f9050bf4430>, <__main__.ListNode object at 0x7f9050bf4490>, <__main__.ListNode object at 0x7f9050bf44f0>, <__main__.ListNode object at 0x7f9050bf4550>, <__main__.ListNode object at 0x7f9050bf45b0>, <__main__.ListNode object at 0x7f9050bf7190>, <__main__.ListNode object at 0x7f9050bf71f0>, <__main__.ListNode object at 0x7f9050bf7250>, <__main__.ListNode object at 0x7f9050bf72b0>, <__main__.ListNode object at 0x7f9050bf7310>, <__main__.ListNode object at 0x7f9050bf7370>, <__main__.ListNode object at 0x7f9050bf73d0>, <__main__.ListNode object at 0x7f9050bf7430>, <__main__.ListNode object at 0x7f9050bf7490>, <__main__.ListNode object at 0x7f9050bf74f0>, <__main__.ListNode object at 0x7f9050bf7550>, <__main__.ListNode object at 0x7f9050bf75b0>, <__main__.ListNode object at 0x7f9050bf7610>, <__main__.ListNode object at 0x7f9050bf7670>, <__main__.ListNode object at 0x7f9050bf76d0>, <__main__.ListNode object at 0x7f9050bf7730>, <__main__.ListNode object at 0x7f9050bf7790>, <__main__.ListNode object at 0x7f9050bf77f0>, <__main__.ListNode object at 0x7f9050bf7850>, <__main__.ListNode object at 0x7f9050bf78b0>, <__main__.ListNode object at 0x7f9050bf7910>, <__main__.ListNode object at 0x7f9050bf7970>, <__main__.ListNode object at 0x7f9050bf79d0>, <__main__.ListNode object at 0x7f9050bf7a30>, <__main__.ListNode object at 0x7f9050bf7a90>, <__main__.ListNode object at 0x7f9050bf7af0>, <__main__.ListNode object at 0x7f9050bf7b50>, <__main__.ListNode object at 0x7f9050bf7bb0>, <__main__.ListNode object at 0x7f9050bf7c10>, <__main__.ListNode object at 0x7f9050bf7c70>, <__main__.ListNode object at 0x7f9050bf7cd0>, <__main__.ListNode object at 0x7f9050bf7d30>, <__main__.ListNode object at 0x7f9050bf7d90>, <__main__.ListNode object at 0x7f9050bf7df0>, <__main__.ListNode object at 0x7f9050bf7e50>, <__main__.ListNode object at 0x7f9050bf7eb0>, <__main__.ListNode object at 0x7f9050bf7f10>, <__main__.ListNode object at 0x7f9050bf7f70>, <__main__.ListNode object at 0x7f9050bf7fd0>, <__main__.ListNode object at 0x7f9050bffca0>, <__main__.ListNode object at 0x7f9050bfc070>, <__main__.ListNode object at 0x7f9050bfc0d0>, <__main__.ListNode object at 0x7f9050bfc130>, <__main__.ListNode object at 0x7f9050bfc190>, <__main__.ListNode object at 0x7f9050bfc1f0>, <__main__.ListNode object at 0x7f9050bfc250>, <__main__.ListNode object at 0x7f9050bfc2b0>, <__main__.ListNode object at 0x7f9050bfc310>, <__main__.ListNode object at 0x7f9050bfc370>, <__main__.ListNode object at 0x7f9050bfc3d0>, <__main__.ListNode object at 0x7f9050bfc430>, <__main__.ListNode object at 0x7f9050bfc490>, <__main__.ListNode object at 0x7f9050bfc4f0>, <__main__.ListNode object at 0x7f9050bfc550>, <__main__.ListNode object at 0x7f9050bfc5b0>, <__main__.ListNode object at 0x7f9050bfc610>, <__main__.ListNode object at 0x7f9050bfc670>, <__main__.ListNode object at 0x7f9050bfc6d0>, <__main__.ListNode object at 0x7f9050bfc730>, <__main__.ListNode object at 0x7f9050bfc790>, <__main__.ListNode object at 0x7f9050bfc7f0>, <__main__.ListNode object at 0x7f9050bfc850>, <__main__.ListNode object at 0x7f9050bfc8b0>, <__main__.ListNode object at 0x7f9050bfc910>, <__main__.ListNode object at 0x7f9050bfc970>, <__main__.ListNode object at 0x7f9050bfc9d0>, <__main__.ListNode object at 0x7f9050bfca30>, <__main__.ListNode object at 0x7f9050bfca90>, <__main__.ListNode object at 0x7f9050bfcaf0>, <__main__.ListNode object at 0x7f9050bfcb50>, <__main__.ListNode object at 0x7f9050bfcbb0>, <__main__.ListNode object at 0x7f9050bfcc10>, <__main__.ListNode object at 0x7f9050bfcc70>, <__main__.ListNode object at 0x7f9050bfccd0>, <__main__.ListNode object at 0x7f9050bfcd30>, <__main__.ListNode object at 0x7f9050bfcd90>, <__main__.ListNode object at 0x7f9050bfcdf0>, <__main__.ListNode object at 0x7f9050bfce50>, <__main__.ListNode object at 0x7f9050bfceb0>, <__main__.ListNode object at 0x7f9050bfcf10>, <__main__.ListNode object at 0x7f9050bfcf70>, <__main__.ListNode object at 0x7f9050bfcfd0>, <__main__.ListNode object at 0x7f9050bfd030>, <__main__.ListNode object at 0x7f9050bfd090>, <__main__.ListNode object at 0x7f9050bfd0f0>, <__main__.ListNode object at 0x7f9050bfd150>, <__main__.ListNode object at 0x7f9050bfd1b0>, <__main__.ListNode object at 0x7f9050bfd210>, <__main__.ListNode object at 0x7f9050bfd270>, <__main__.ListNode object at 0x7f9050bfd2d0>, <__main__.ListNode object at 0x7f9050bfd330>, <__main__.ListNode object at 0x7f9050bfd390>, <__main__.ListNode object at 0x7f9050bfd3f0>, <__main__.ListNode object at 0x7f9050bfd450>, <__main__.ListNode object at 0x7f9050bfd4b0>, <__main__.ListNode object at 0x7f9050bfd510>, <__main__.ListNode object at 0x7f9050bfd570>, <__main__.ListNode object at 0x7f9050bfd5d0>, <__main__.ListNode object at 0x7f9050bfd630>, <__main__.ListNode object at 0x7f9050bfd690>, <__main__.ListNode object at 0x7f9050bfd6f0>, <__main__.ListNode object at 0x7f9050bfd750>, <__main__.ListNode object at 0x7f9050bfd7b0>, <__main__.ListNode object at 0x7f9050bfd810>, <__main__.ListNode object at 0x7f9050bfd870>, <__main__.ListNode object at 0x7f9050bfd8d0>, <__main__.ListNode object at 0x7f9050bfd930>, <__main__.ListNode object at 0x7f9050bfd990>, <__main__.ListNode object at 0x7f9050bfd9f0>, <__main__.ListNode object at 0x7f9050bfda50>, <__main__.ListNode object at 0x7f9050bfdab0>, <__main__.ListNode object at 0x7f9050bfdb10>, <__main__.ListNode object at 0x7f9050bfdb70>, <__main__.ListNode object at 0x7f9050bfdbd0>, <__main__.ListNode object at 0x7f9050bfdc30>, <__main__.ListNode object at 0x7f9050bfdc90>, <__main__.ListNode object at 0x7f9050bfdcf0>, <__main__.ListNode object at 0x7f9050bfdd50>, <__main__.ListNode object at 0x7f9050bfddb0>, <__main__.ListNode object at 0x7f9050bfde10>, <__main__.ListNode object at 0x7f9050bfde70>, <__main__.ListNode object at 0x7f9050bfded0>, <__main__.ListNode object at 0x7f9050bfdf30>, <__main__.ListNode object at 0x7f9050bfdf90>, <__main__.ListNode object at 0x7f9050bfdff0>, <__main__.ListNode object at 0x7f9050bfe050>, <__main__.ListNode object at 0x7f9050bfe0b0>, <__main__.ListNode object at 0x7f9050bfe110>, <__main__.ListNode object at 0x7f9050bfe170>, <__main__.ListNode object at 0x7f9050bfe1d0>, <__main__.ListNode object at 0x7f9050bfe230>, <__main__.ListNode object at 0x7f9050bfe290>, <__main__.ListNode object at 0x7f9050bfe2f0>, <__main__.ListNode object at 0x7f9050bfe350>, <__main__.ListNode object at 0x7f9050bfe3b0>, <__main__.ListNode object at 0x7f9050bfe410>, <__main__.ListNode object at 0x7f9050bfe470>, <__main__.ListNode object at 0x7f9050bfe4d0>, <__main__.ListNode object at 0x7f9050bfe530>, <__main__.ListNode object at 0x7f9050bfe590>, <__main__.ListNode object at 0x7f9050bfe5f0>, <__main__.ListNode object at 0x7f9050bfe650>, <__main__.ListNode object at 0x7f9050bfe6b0>, <__main__.ListNode object at 0x7f9050bfe710>, <__main__.ListNode object at 0x7f9050bfe770>, <__main__.ListNode object at 0x7f9050bfe7d0>, <__main__.ListNode object at 0x7f9050bfe830>, <__main__.ListNode object at 0x7f9050bfe890>, <__main__.ListNode object at 0x7f9050bfe8f0>, <__main__.ListNode object at 0x7f9050bfe950>, <__main__.ListNode object at 0x7f9050bfe9b0>, <__main__.ListNode object at 0x7f9050bfea10>, <__main__.ListNode object at 0x7f9050bfea70>, <__main__.ListNode object at 0x7f9050bfead0>, <__main__.ListNode object at 0x7f9050bfeb30>, <__main__.ListNode object at 0x7f9050bfeb90>, <__main__.ListNode object at 0x7f9050bfebf0>, <__main__.ListNode object at 0x7f9050bfec50>, <__main__.ListNode object at 0x7f9050bfecb0>, <__main__.ListNode object at 0x7f9050bfed10>, <__main__.ListNode object at 0x7f9050bfed70>, <__main__.ListNode object at 0x7f9050bfedd0>, <__main__.ListNode object at 0x7f9050bfee30>, <__main__.ListNode object at 0x7f9050bfee90>, <__main__.ListNode object at 0x7f9050bfeef0>, <__main__.ListNode object at 0x7f9050bfef50>, <__main__.ListNode object at 0x7f9050bfefb0>, <__main__.ListNode object at 0x7f9050bff010>, <__main__.ListNode object at 0x7f9050bff070>, <__main__.ListNode object at 0x7f9050bff0d0>, <__main__.ListNode object at 0x7f9050bff130>, <__main__.ListNode object at 0x7f9050bff190>, <__main__.ListNode object at 0x7f9050bff1f0>, <__main__.ListNode object at 0x7f9050bff250>, <__main__.ListNode object at 0x7f9050bff2b0>, <__main__.ListNode object at 0x7f9050bff310>, <__main__.ListNode object at 0x7f906044f160>, <__main__.ListNode object at 0x7f906044c8e0>, <__main__.ListNode object at 0x7f906044cc40>, <__main__.ListNode object at 0x7f906044f0a0>, <__main__.ListNode object at 0x7f906044ebf0>, <__main__.ListNode object at 0x7f906044df00>, <__main__.ListNode object at 0x7f906044c070>, <__main__.ListNode object at 0x7f906044f550>, <__main__.ListNode object at 0x7f906044e4d0>, <__main__.ListNode object at 0x7f906044c820>, <__main__.ListNode object at 0x7f906044f220>, <__main__.ListNode object at 0x7f906044e8c0>, <__main__.ListNode object at 0x7f906044e170>, <__main__.ListNode object at 0x7f906044fb80>, <__main__.ListNode object at 0x7f906044fc10>, <__main__.ListNode object at 0x7f906044fc70>, <__main__.ListNode object at 0x7f906044fcd0>, <__main__.ListNode object at 0x7f906044fd30>, <__main__.ListNode object at 0x7f906044fd90>, <__main__.ListNode object at 0x7f906044fdf0>, <__main__.ListNode object at 0x7f906044fe50>, <__main__.ListNode object at 0x7f906044feb0>, <__main__.ListNode object at 0x7f906044ff10>, <__main__.ListNode object at 0x7f906044ff70>, <__main__.ListNode object at 0x7f906044ffd0>, <__main__.ListNode object at 0x7f9040890070>, <__main__.ListNode object at 0x7f90408900d0>, <__main__.ListNode object at 0x7f9040890130>, <__main__.ListNode object at 0x7f9040890190>, <__main__.ListNode object at 0x7f90408901f0>, <__main__.ListNode object at 0x7f9040890250>, <__main__.ListNode object at 0x7f90408902b0>, <__main__.ListNode object at 0x7f9040890310>, <__main__.ListNode object at 0x7f9040890370>, <__main__.ListNode object at 0x7f90408903d0>, <__main__.ListNode object at 0x7f9040890430>, <__main__.ListNode object at 0x7f9040890490>, <__main__.ListNode object at 0x7f90408904f0>, <__main__.ListNode object at 0x7f9040890550>, <__main__.ListNode object at 0x7f90408905b0>, <__main__.ListNode object at 0x7f9040890610>, <__main__.ListNode object at 0x7f9040890670>, <__main__.ListNode object at 0x7f90408906d0>, <__main__.ListNode object at 0x7f9040890730>, <__main__.ListNode object at 0x7f9040890790>, <__main__.ListNode object at 0x7f90408907f0>, <__main__.ListNode object at 0x7f9040890850>, <__main__.ListNode object at 0x7f90408908b0>, <__main__.ListNode object at 0x7f9040890910>, <__main__.ListNode object at 0x7f9040890970>, <__main__.ListNode object at 0x7f90408909d0>, <__main__.ListNode object at 0x7f9040890a30>, <__main__.ListNode object at 0x7f9040890a90>, <__main__.ListNode object at 0x7f9040890af0>, <__main__.ListNode object at 0x7f9040890b50>, <__main__.ListNode object at 0x7f9040890bb0>, <__main__.ListNode object at 0x7f9040890c10>, <__main__.ListNode object at 0x7f9040890c70>, <__main__.ListNode object at 0x7f9040890cd0>, <__main__.ListNode object at 0x7f9040890d30>, <__main__.ListNode object at 0x7f9040890d90>, <__main__.ListNode object at 0x7f9040890df0>, <__main__.ListNode object at 0x7f9040890e50>, <__main__.ListNode object at 0x7f9040890eb0>, <__main__.ListNode object at 0x7f9040890f10>, <__main__.ListNode object at 0x7f9040890f70>, <__main__.ListNode object at 0x7f9040890fd0>, <__main__.ListNode object at 0x7f9040891030>, <__main__.ListNode object at 0x7f9040891090>, <__main__.ListNode object at 0x7f90408910f0>, <__main__.ListNode object at 0x7f9040891150>, <__main__.ListNode object at 0x7f90408911b0>, <__main__.ListNode object at 0x7f9040891210>, <__main__.ListNode object at 0x7f9040891270>, <__main__.ListNode object at 0x7f90408912d0>, <__main__.ListNode object at 0x7f9040891330>, <__main__.ListNode object at 0x7f9040891390>, <__main__.ListNode object at 0x7f90408913f0>, <__main__.ListNode object at 0x7f9040891450>, <__main__.ListNode object at 0x7f90408914b0>, <__main__.ListNode object at 0x7f9040891510>, <__main__.ListNode object at 0x7f9040891570>, <__main__.ListNode object at 0x7f90408915d0>, <__main__.ListNode object at 0x7f9040891630>, <__main__.ListNode object at 0x7f9040891690>, <__main__.ListNode object at 0x7f90408916f0>, <__main__.ListNode object at 0x7f9040891750>, <__main__.ListNode object at 0x7f90408917b0>, <__main__.ListNode object at 0x7f9040891810>, <__main__.ListNode object at 0x7f9040891870>, <__main__.ListNode object at 0x7f90408918d0>, <__main__.ListNode object at 0x7f9040891930>, <__main__.ListNode object at 0x7f9040891990>, <__main__.ListNode object at 0x7f90408919f0>, <__main__.ListNode object at 0x7f9040891a50>, <__main__.ListNode object at 0x7f9040891ab0>, <__main__.ListNode object at 0x7f9040891b10>, <__main__.ListNode object at 0x7f9040891b70>, <__main__.ListNode object at 0x7f9040891bd0>, <__main__.ListNode object at 0x7f9040891c30>, <__main__.ListNode object at 0x7f9040891c90>, <__main__.ListNode object at 0x7f9040891cf0>, <__main__.ListNode object at 0x7f9040891d50>, <__main__.ListNode object at 0x7f9040891db0>, <__main__.ListNode object at 0x7f9040891e10>, <__main__.ListNode object at 0x7f9040891e70>, <__main__.ListNode object at 0x7f9040891ed0>, <__main__.ListNode object at 0x7f9040891f30>, <__main__.ListNode object at 0x7f9040891f90>, <__main__.ListNode object at 0x7f9040891ff0>, <__main__.ListNode object at 0x7f9040892050>, <__main__.ListNode object at 0x7f90408920b0>, <__main__.ListNode object at 0x7f9040892110>, <__main__.ListNode object at 0x7f9040892170>, <__main__.ListNode object at 0x7f90408921d0>, <__main__.ListNode object at 0x7f9040892230>, <__main__.ListNode object at 0x7f9040892290>, <__main__.ListNode object at 0x7f90408922f0>, <__main__.ListNode object at 0x7f9040892350>, <__main__.ListNode object at 0x7f90408923b0>, <__main__.ListNode object at 0x7f9040892410>, <__main__.ListNode object at 0x7f9040892470>, <__main__.ListNode object at 0x7f90408924d0>, <__main__.ListNode object at 0x7f9040892530>, <__main__.ListNode object at 0x7f9040892590>, <__main__.ListNode object at 0x7f90408925f0>, <__main__.ListNode object at 0x7f9040892650>, <__main__.ListNode object at 0x7f90408926b0>, <__main__.ListNode object at 0x7f9040892710>, <__main__.ListNode object at 0x7f9040892770>, <__main__.ListNode object at 0x7f90408927d0>, <__main__.ListNode object at 0x7f9040892830>, <__main__.ListNode object at 0x7f9040892890>, <__main__.ListNode object at 0x7f90408928f0>, <__main__.ListNode object at 0x7f9040892950>, <__main__.ListNode object at 0x7f90408929b0>, <__main__.ListNode object at 0x7f9040892a10>, <__main__.ListNode object at 0x7f9040892a70>, <__main__.ListNode object at 0x7f9040892ad0>, <__main__.ListNode object at 0x7f9040892b30>, <__main__.ListNode object at 0x7f9040892b90>, <__main__.ListNode object at 0x7f9040892bf0>, <__main__.ListNode object at 0x7f9040892c50>, <__main__.ListNode object at 0x7f9040892cb0>, <__main__.ListNode object at 0x7f9040892d10>, <__main__.ListNode object at 0x7f9040892d70>, <__main__.ListNode object at 0x7f9040892dd0>, <__main__.ListNode object at 0x7f9040892e30>, <__main__.ListNode object at 0x7f9040892e90>, <__main__.ListNode object at 0x7f9040892ef0>, <__main__.ListNode object at 0x7f9040892f50>, <__main__.ListNode object at 0x7f9040892fb0>, <__main__.ListNode object at 0x7f9040893010>, <__main__.ListNode object at 0x7f9040893070>, <__main__.ListNode object at 0x7f90408930d0>, <__main__.ListNode object at 0x7f9040893130>, <__main__.ListNode object at 0x7f9040893190>, <__main__.ListNode object at 0x7f90408931f0>, <__main__.ListNode object at 0x7f9040893250>, <__main__.ListNode object at 0x7f90408932b0>, <__main__.ListNode object at 0x7f9040893310>, <__main__.ListNode object at 0x7f9040893370>, <__main__.ListNode object at 0x7f90408933d0>, <__main__.ListNode object at 0x7f9040893430>, <__main__.ListNode object at 0x7f9040893490>, <__main__.ListNode object at 0x7f90408934f0>, <__main__.ListNode object at 0x7f9040893550>, <__main__.ListNode object at 0x7f90408935b0>, <__main__.ListNode object at 0x7f9040893610>, <__main__.ListNode object at 0x7f9040893670>, <__main__.ListNode object at 0x7f90408936d0>, <__main__.ListNode object at 0x7f9040893730>, <__main__.ListNode object at 0x7f9040893790>, <__main__.ListNode object at 0x7f90408937f0>, <__main__.ListNode object at 0x7f9040893850>, <__main__.ListNode object at 0x7f90408938b0>, <__main__.ListNode object at 0x7f9040893910>, <__main__.ListNode object at 0x7f9040893970>, <__main__.ListNode object at 0x7f90408939d0>, <__main__.ListNode object at 0x7f9040893a30>, <__main__.ListNode object at 0x7f9040893a90>, <__main__.ListNode object at 0x7f9040893af0>, <__main__.ListNode object at 0x7f9040893b50>, <__main__.ListNode object at 0x7f9040893bb0>, <__main__.ListNode object at 0x7f9040893c10>, <__main__.ListNode object at 0x7f9040893c70>, <__main__.ListNode object at 0x7f9040893cd0>, <__main__.ListNode object at 0x7f9040893d30>, <__main__.ListNode object at 0x7f9040893d90>, <__main__.ListNode object at 0x7f9040893df0>, <__main__.ListNode object at 0x7f9040893e50>, <__main__.ListNode object at 0x7f9040893eb0>, <__main__.ListNode object at 0x7f9040893f10>, <__main__.ListNode object at 0x7f9040893f70>, <__main__.ListNode object at 0x7f9040893fd0>, <__main__.ListNode object at 0x7f9040894070>, <__main__.ListNode object at 0x7f90408940d0>, <__main__.ListNode object at 0x7f9040894130>, <__main__.ListNode object at 0x7f9040894190>, <__main__.ListNode object at 0x7f90408941f0>, <__main__.ListNode object at 0x7f9040894250>, <__main__.ListNode object at 0x7f90408942b0>, <__main__.ListNode object at 0x7f9040894310>, <__main__.ListNode object at 0x7f9040894370>, <__main__.ListNode object at 0x7f90408943d0>, <__main__.ListNode object at 0x7f9040894430>, <__main__.ListNode object at 0x7f9040894490>, <__main__.ListNode object at 0x7f90408944f0>, <__main__.ListNode object at 0x7f9040894550>, <__main__.ListNode object at 0x7f90408945b0>, <__main__.ListNode object at 0x7f9040894610>, <__main__.ListNode object at 0x7f9040894670>, <__main__.ListNode object at 0x7f90408946d0>, <__main__.ListNode object at 0x7f9040894730>, <__main__.ListNode object at 0x7f9040894790>, <__main__.ListNode object at 0x7f90408947f0>, <__main__.ListNode object at 0x7f9040894850>, <__main__.ListNode object at 0x7f90408948b0>, <__main__.ListNode object at 0x7f9040894910>, <__main__.ListNode object at 0x7f9040894970>, <__main__.ListNode object at 0x7f90408949d0>, <__main__.ListNode object at 0x7f9040894a30>, <__main__.ListNode object at 0x7f9040894a90>, <__main__.ListNode object at 0x7f9040894af0>, <__main__.ListNode object at 0x7f9040894b50>, <__main__.ListNode object at 0x7f9040894bb0>, <__main__.ListNode object at 0x7f9040894c10>, <__main__.ListNode object at 0x7f9040894c70>, <__main__.ListNode object at 0x7f9040894cd0>, <__main__.ListNode object at 0x7f9040894d30>, <__main__.ListNode object at 0x7f9040894d90>, <__main__.ListNode object at 0x7f9040894df0>, <__main__.ListNode object at 0x7f9040894e50>, <__main__.ListNode object at 0x7f9040894eb0>, <__main__.ListNode object at 0x7f9040894f10>, <__main__.ListNode object at 0x7f9040894f70>, <__main__.ListNode object at 0x7f9040894fd0>, <__main__.ListNode object at 0x7f9040895030>, <__main__.ListNode object at 0x7f9040895090>, <__main__.ListNode object at 0x7f90408950f0>, <__main__.ListNode object at 0x7f9040895150>, <__main__.ListNode object at 0x7f90408951b0>, <__main__.ListNode object at 0x7f9040895210>, <__main__.ListNode object at 0x7f9040895270>, <__main__.ListNode object at 0x7f90408952d0>, <__main__.ListNode object at 0x7f9040895330>, <__main__.ListNode object at 0x7f9040895390>, <__main__.ListNode object at 0x7f90408953f0>, <__main__.ListNode object at 0x7f9040895450>, <__main__.ListNode object at 0x7f90408954b0>, <__main__.ListNode object at 0x7f9040895510>, <__main__.ListNode object at 0x7f9040895570>, <__main__.ListNode object at 0x7f90408955d0>, <__main__.ListNode object at 0x7f9040895630>, <__main__.ListNode object at 0x7f9040895690>, <__main__.ListNode object at 0x7f90408956f0>, <__main__.ListNode object at 0x7f9040895750>, <__main__.ListNode object at 0x7f90408957b0>, <__main__.ListNode object at 0x7f9040895810>, <__main__.ListNode object at 0x7f9040895870>, <__main__.ListNode object at 0x7f90408958d0>, <__main__.ListNode object at 0x7f9040895930>, <__main__.ListNode object at 0x7f9040895990>, <__main__.ListNode object at 0x7f90408959f0>, <__main__.ListNode object at 0x7f9040895a50>, <__main__.ListNode object at 0x7f9040895ab0>, <__main__.ListNode object at 0x7f9040895b10>, <__main__.ListNode object at 0x7f9040895b70>, <__main__.ListNode object at 0x7f9040895bd0>, <__main__.ListNode object at 0x7f9040895c30>, <__main__.ListNode object at 0x7f9040895c90>, <__main__.ListNode object at 0x7f9040895cf0>, <__main__.ListNode object at 0x7f9040895d50>, <__main__.ListNode object at 0x7f9040895db0>, <__main__.ListNode object at 0x7f9040895e10>, <__main__.ListNode object at 0x7f9040895e70>, <__main__.ListNode object at 0x7f9040895ed0>, <__main__.ListNode object at 0x7f9040895f30>, <__main__.ListNode object at 0x7f9040895f90>, <__main__.ListNode object at 0x7f9040895ff0>, <__main__.ListNode object at 0x7f9040896050>, <__main__.ListNode object at 0x7f90408960b0>, <__main__.ListNode object at 0x7f9040896110>, <__main__.ListNode object at 0x7f9040896170>, <__main__.ListNode object at 0x7f90408961d0>, <__main__.ListNode object at 0x7f9040896230>, <__main__.ListNode object at 0x7f9040896290>, <__main__.ListNode object at 0x7f90408962f0>, <__main__.ListNode object at 0x7f9040896350>, <__main__.ListNode object at 0x7f90408963b0>, <__main__.ListNode object at 0x7f9040896410>, <__main__.ListNode object at 0x7f9040896470>, <__main__.ListNode object at 0x7f90408964d0>, <__main__.ListNode object at 0x7f9040896530>, <__main__.ListNode object at 0x7f9040896590>, <__main__.ListNode object at 0x7f90408965f0>, <__main__.ListNode object at 0x7f9040896650>, <__main__.ListNode object at 0x7f90408966b0>, <__main__.ListNode object at 0x7f9040896710>, <__main__.ListNode object at 0x7f9040896770>, <__main__.ListNode object at 0x7f90408967d0>, <__main__.ListNode object at 0x7f9040896830>, <__main__.ListNode object at 0x7f9040896890>, <__main__.ListNode object at 0x7f90408968f0>, <__main__.ListNode object at 0x7f9040896950>, <__main__.ListNode object at 0x7f90408969b0>, <__main__.ListNode object at 0x7f9040896a10>, <__main__.ListNode object at 0x7f9040896a70>, <__main__.ListNode object at 0x7f9040896ad0>, <__main__.ListNode object at 0x7f9040896b30>, <__main__.ListNode object at 0x7f9040896b90>, <__main__.ListNode object at 0x7f9040896bf0>, <__main__.ListNode object at 0x7f9040896c50>, <__main__.ListNode object at 0x7f9040896cb0>, <__main__.ListNode object at 0x7f9040896d10>, <__main__.ListNode object at 0x7f9040896d70>, <__main__.ListNode object at 0x7f9040896dd0>, <__main__.ListNode object at 0x7f9040896e30>, <__main__.ListNode object at 0x7f9040896e90>, <__main__.ListNode object at 0x7f9040896ef0>, <__main__.ListNode object at 0x7f9040896f50>, <__main__.ListNode object at 0x7f9040896fb0>, <__main__.ListNode object at 0x7f9040897010>, <__main__.ListNode object at 0x7f9040897070>, <__main__.ListNode object at 0x7f90408970d0>, <__main__.ListNode object at 0x7f9040897130>, <__main__.ListNode object at 0x7f9040897190>, <__main__.ListNode object at 0x7f90408971f0>, <__main__.ListNode object at 0x7f9040897250>, <__main__.ListNode object at 0x7f90408972b0>, <__main__.ListNode object at 0x7f9040897310>, <__main__.ListNode object at 0x7f9040897370>, <__main__.ListNode object at 0x7f90408973d0>, <__main__.ListNode object at 0x7f9040897430>, <__main__.ListNode object at 0x7f9040897490>, <__main__.ListNode object at 0x7f90408974f0>, <__main__.ListNode object at 0x7f9040897550>, <__main__.ListNode object at 0x7f90408975b0>, <__main__.ListNode object at 0x7f9040897610>, <__main__.ListNode object at 0x7f9040897670>, <__main__.ListNode object at 0x7f90408976d0>, <__main__.ListNode object at 0x7f9040897730>, <__main__.ListNode object at 0x7f9040897790>, <__main__.ListNode object at 0x7f90408977f0>, <__main__.ListNode object at 0x7f9040897850>, <__main__.ListNode object at 0x7f90408978b0>, <__main__.ListNode object at 0x7f9040897910>, <__main__.ListNode object at 0x7f9040897970>, <__main__.ListNode object at 0x7f90408979d0>, <__main__.ListNode object at 0x7f9040897a30>, <__main__.ListNode object at 0x7f9040897a90>, <__main__.ListNode object at 0x7f9040897af0>, <__main__.ListNode object at 0x7f9040897b50>, <__main__.ListNode object at 0x7f9040897bb0>, <__main__.ListNode object at 0x7f9040897c10>, <__main__.ListNode object at 0x7f9040897c70>, <__main__.ListNode object at 0x7f9040897cd0>, <__main__.ListNode object at 0x7f9040897d30>, <__main__.ListNode object at 0x7f9040897d90>, <__main__.ListNode object at 0x7f9040897df0>, <__main__.ListNode object at 0x7f9040897e50>, <__main__.ListNode object at 0x7f9040897eb0>, <__main__.ListNode object at 0x7f9040897f10>, <__main__.ListNode object at 0x7f9040897f70>, <__main__.ListNode object at 0x7f9040897fd0>, <__main__.ListNode object at 0x7f9040898070>, <__main__.ListNode object at 0x7f90408980d0>, <__main__.ListNode object at 0x7f9040898130>, <__main__.ListNode object at 0x7f9040898190>, <__main__.ListNode object at 0x7f90408981f0>, <__main__.ListNode object at 0x7f9040898250>, <__main__.ListNode object at 0x7f90408982b0>, <__main__.ListNode object at 0x7f9040898310>, <__main__.ListNode object at 0x7f9040898370>, <__main__.ListNode object at 0x7f90408983d0>, <__main__.ListNode object at 0x7f9040898430>, <__main__.ListNode object at 0x7f9040898490>, <__main__.ListNode object at 0x7f90408984f0>, <__main__.ListNode object at 0x7f9040898550>, <__main__.ListNode object at 0x7f90408985b0>, <__main__.ListNode object at 0x7f9040898610>, <__main__.ListNode object at 0x7f9040898670>, <__main__.ListNode object at 0x7f90408986d0>, <__main__.ListNode object at 0x7f9040898730>, <__main__.ListNode object at 0x7f9040898790>, <__main__.ListNode object at 0x7f90408987f0>, <__main__.ListNode object at 0x7f9040898850>, <__main__.ListNode object at 0x7f90408988b0>, <__main__.ListNode object at 0x7f9040898910>, <__main__.ListNode object at 0x7f9040898970>, <__main__.ListNode object at 0x7f90408989d0>, <__main__.ListNode object at 0x7f9040898a30>, <__main__.ListNode object at 0x7f9040898a90>, <__main__.ListNode object at 0x7f9040898af0>, <__main__.ListNode object at 0x7f9040898b50>, <__main__.ListNode object at 0x7f9040898bb0>, <__main__.ListNode object at 0x7f9040898c10>, <__main__.ListNode object at 0x7f9040898c70>, <__main__.ListNode object at 0x7f9040898cd0>, <__main__.ListNode object at 0x7f9040898d30>, <__main__.ListNode object at 0x7f9040898d90>, <__main__.ListNode object at 0x7f9040898df0>, <__main__.ListNode object at 0x7f9040898e50>, <__main__.ListNode object at 0x7f9040898eb0>, <__main__.ListNode object at 0x7f9040898f10>, <__main__.ListNode object at 0x7f9040898f70>, <__main__.ListNode object at 0x7f9040898fd0>, <__main__.ListNode object at 0x7f9040899030>, <__main__.ListNode object at 0x7f9040899090>, <__main__.ListNode object at 0x7f90408990f0>, <__main__.ListNode object at 0x7f9040899150>, <__main__.ListNode object at 0x7f90408991b0>, <__main__.ListNode object at 0x7f9040899210>, <__main__.ListNode object at 0x7f9040899270>, <__main__.ListNode object at 0x7f90408992d0>, <__main__.ListNode object at 0x7f9040899330>, <__main__.ListNode object at 0x7f9040899390>, <__main__.ListNode object at 0x7f90408993f0>, <__main__.ListNode object at 0x7f9040899450>, <__main__.ListNode object at 0x7f90408994b0>, <__main__.ListNode object at 0x7f9040899510>, <__main__.ListNode object at 0x7f9040899570>, <__main__.ListNode object at 0x7f90408995d0>, <__main__.ListNode object at 0x7f9040899630>, <__main__.ListNode object at 0x7f9040899690>, <__main__.ListNode object at 0x7f90408996f0>, <__main__.ListNode object at 0x7f9040899750>, <__main__.ListNode object at 0x7f90408997b0>, <__main__.ListNode object at 0x7f9040899810>, <__main__.ListNode object at 0x7f9040899870>, <__main__.ListNode object at 0x7f90408998d0>, <__main__.ListNode object at 0x7f9040899930>, <__main__.ListNode object at 0x7f9040899990>, <__main__.ListNode object at 0x7f90408999f0>, <__main__.ListNode object at 0x7f9040899a50>, <__main__.ListNode object at 0x7f9040899ab0>, <__main__.ListNode object at 0x7f9040899b10>, <__main__.ListNode object at 0x7f9040899b70>, <__main__.ListNode object at 0x7f9040899bd0>, <__main__.ListNode object at 0x7f9040899c30>, <__main__.ListNode object at 0x7f9040899c90>, <__main__.ListNode object at 0x7f9040899cf0>, <__main__.ListNode object at 0x7f9040899d50>, <__main__.ListNode object at 0x7f9040899db0>, <__main__.ListNode object at 0x7f9040899e10>, <__main__.ListNode object at 0x7f9040899e70>, <__main__.ListNode object at 0x7f9040899ed0>, <__main__.ListNode object at 0x7f9040899f30>, <__main__.ListNode object at 0x7f9040899f90>, <__main__.ListNode object at 0x7f9040899ff0>, <__main__.ListNode object at 0x7f904089a050>, <__main__.ListNode object at 0x7f904089a0b0>, <__main__.ListNode object at 0x7f904089a110>, <__main__.ListNode object at 0x7f904089a170>, <__main__.ListNode object at 0x7f904089a1d0>, <__main__.ListNode object at 0x7f904089a230>, <__main__.ListNode object at 0x7f904089a290>, <__main__.ListNode object at 0x7f904089a2f0>, <__main__.ListNode object at 0x7f904089a350>, <__main__.ListNode object at 0x7f904089a3b0>, <__main__.ListNode object at 0x7f904089a410>, <__main__.ListNode object at 0x7f904089a470>, <__main__.ListNode object at 0x7f904089a4d0>, <__main__.ListNode object at 0x7f904089a530>, <__main__.ListNode object at 0x7f904089a590>, <__main__.ListNode object at 0x7f904089a5f0>, <__main__.ListNode object at 0x7f904089a650>, <__main__.ListNode object at 0x7f904089a6b0>, <__main__.ListNode object at 0x7f904089a710>, <__main__.ListNode object at 0x7f904089a770>, <__main__.ListNode object at 0x7f904089a7d0>, <__main__.ListNode object at 0x7f904089a830>, <__main__.ListNode object at 0x7f904089a890>, <__main__.ListNode object at 0x7f904089a8f0>, <__main__.ListNode object at 0x7f904089a950>, <__main__.ListNode object at 0x7f904089a9b0>, <__main__.ListNode object at 0x7f904089aa10>, <__main__.ListNode object at 0x7f904089aa70>, <__main__.ListNode object at 0x7f904089aad0>, <__main__.ListNode object at 0x7f904089ab30>, <__main__.ListNode object at 0x7f904089ab90>, <__main__.ListNode object at 0x7f904089abf0>, <__main__.ListNode object at 0x7f904089ac50>, <__main__.ListNode object at 0x7f904089acb0>, <__main__.ListNode object at 0x7f904089ad10>, <__main__.ListNode object at 0x7f904089ad70>, <__main__.ListNode object at 0x7f904089add0>, <__main__.ListNode object at 0x7f904089ae30>, <__main__.ListNode object at 0x7f904089ae90>, <__main__.ListNode object at 0x7f904089aef0>, <__main__.ListNode object at 0x7f904089af50>, <__main__.ListNode object at 0x7f904089afb0>, <__main__.ListNode object at 0x7f904089b010>, <__main__.ListNode object at 0x7f904089b070>, <__main__.ListNode object at 0x7f904089b0d0>, <__main__.ListNode object at 0x7f904089b130>, <__main__.ListNode object at 0x7f904089b190>, <__main__.ListNode object at 0x7f904089b1f0>, <__main__.ListNode object at 0x7f904089b250>, <__main__.ListNode object at 0x7f904089b2b0>, <__main__.ListNode object at 0x7f904089b310>, <__main__.ListNode object at 0x7f904089b370>, <__main__.ListNode object at 0x7f904089b3d0>, <__main__.ListNode object at 0x7f904089b430>, <__main__.ListNode object at 0x7f904089b490>, <__main__.ListNode object at 0x7f904089b4f0>, <__main__.ListNode object at 0x7f904089b550>, <__main__.ListNode object at 0x7f904089b5b0>, <__main__.ListNode object at 0x7f904089b610>, <__main__.ListNode object at 0x7f904089b670>, <__main__.ListNode object at 0x7f904089b6d0>, <__main__.ListNode object at 0x7f904089b730>, <__main__.ListNode object at 0x7f904089b790>, <__main__.ListNode object at 0x7f904089b7f0>, <__main__.ListNode object at 0x7f904089b850>, <__main__.ListNode object at 0x7f904089b8b0>, <__main__.ListNode object at 0x7f904089b910>, <__main__.ListNode object at 0x7f904089b970>, <__main__.ListNode object at 0x7f904089b9d0>, <__main__.ListNode object at 0x7f904089ba30>, <__main__.ListNode object at 0x7f904089ba90>, <__main__.ListNode object at 0x7f904089baf0>, <__main__.ListNode object at 0x7f904089bb50>, <__main__.ListNode object at 0x7f904089bbb0>, <__main__.ListNode object at 0x7f904089bc10>, <__main__.ListNode object at 0x7f904089bc70>, <__main__.ListNode object at 0x7f904089bcd0>, <__main__.ListNode object at 0x7f904089bd30>, <__main__.ListNode object at 0x7f904089bd90>, <__main__.ListNode object at 0x7f904089bdf0>, <__main__.ListNode object at 0x7f904089be50>, <__main__.ListNode object at 0x7f904089beb0>, <__main__.ListNode object at 0x7f904089bf10>, <__main__.ListNode object at 0x7f904089bf70>, <__main__.ListNode object at 0x7f904089bfd0>, <__main__.ListNode object at 0x7f904089c070>, <__main__.ListNode object at 0x7f904089c0d0>, <__main__.ListNode object at 0x7f904089c130>, <__main__.ListNode object at 0x7f904089c190>, <__main__.ListNode object at 0x7f904089c1f0>, <__main__.ListNode object at 0x7f904089c250>, <__main__.ListNode object at 0x7f904089c2b0>, <__main__.ListNode object at 0x7f904089c310>, <__main__.ListNode object at 0x7f904089c370>, <__main__.ListNode object at 0x7f904089c3d0>, <__main__.ListNode object at 0x7f904089c430>, <__main__.ListNode object at 0x7f904089c490>, <__main__.ListNode object at 0x7f904089c4f0>, <__main__.ListNode object at 0x7f904089c550>, <__main__.ListNode object at 0x7f904089c5b0>, <__main__.ListNode object at 0x7f904089c610>, <__main__.ListNode object at 0x7f904089c670>, <__main__.ListNode object at 0x7f904089c6d0>, <__main__.ListNode object at 0x7f904089c730>, <__main__.ListNode object at 0x7f904089c790>, <__main__.ListNode object at 0x7f904089c7f0>, <__main__.ListNode object at 0x7f904089c850>, <__main__.ListNode object at 0x7f904089c8b0>, <__main__.ListNode object at 0x7f904089c910>, <__main__.ListNode object at 0x7f904089c970>, <__main__.ListNode object at 0x7f904089c9d0>, <__main__.ListNode object at 0x7f904089ca30>, <__main__.ListNode object at 0x7f904089ca90>, <__main__.ListNode object at 0x7f904089caf0>, <__main__.ListNode object at 0x7f904089cb50>, <__main__.ListNode object at 0x7f904089cbb0>, <__main__.ListNode object at 0x7f904089cc10>, <__main__.ListNode object at 0x7f904089cc70>, <__main__.ListNode object at 0x7f904089ccd0>, <__main__.ListNode object at 0x7f904089cd30>, <__main__.ListNode object at 0x7f904089cd90>, <__main__.ListNode object at 0x7f904089cdf0>, <__main__.ListNode object at 0x7f904089ce50>, <__main__.ListNode object at 0x7f904089ceb0>, <__main__.ListNode object at 0x7f904089cf10>, <__main__.ListNode object at 0x7f904089cf70>, <__main__.ListNode object at 0x7f904089cfd0>, <__main__.ListNode object at 0x7f904089d030>, <__main__.ListNode object at 0x7f904089d090>, <__main__.ListNode object at 0x7f904089d0f0>, <__main__.ListNode object at 0x7f904089d150>, <__main__.ListNode object at 0x7f904089d1b0>, <__main__.ListNode object at 0x7f904089d210>, <__main__.ListNode object at 0x7f904089d270>, <__main__.ListNode object at 0x7f904089d2d0>, <__main__.ListNode object at 0x7f904089d330>, <__main__.ListNode object at 0x7f904089d390>, <__main__.ListNode object at 0x7f904089d3f0>, <__main__.ListNode object at 0x7f904089d450>, <__main__.ListNode object at 0x7f904089d4b0>, <__main__.ListNode object at 0x7f904089d510>, <__main__.ListNode object at 0x7f904089d570>, <__main__.ListNode object at 0x7f904089d5d0>, <__main__.ListNode object at 0x7f904089d630>, <__main__.ListNode object at 0x7f904089d690>, <__main__.ListNode object at 0x7f904089d6f0>, <__main__.ListNode object at 0x7f904089d750>, <__main__.ListNode object at 0x7f904089d7b0>, <__main__.ListNode object at 0x7f904089d810>]\n"
     ]
    }
   ],
   "source": [
    "class ListNode:\n",
    "    def __init__(self, key=-1, val=-1, next=None):\n",
    "        self.key = key\n",
    "        self.val = val\n",
    "        self.next = next\n",
    "\n",
    "\n",
    "class MyHashMap:\n",
    "    def __init__(self):\n",
    "        self.map = [ListNode() for i in range(1000)]\n",
    "\n",
    "    # this will give us an index of the key\n",
    "    def index(self, key):\n",
    "        return key % len(self.map)\n",
    "\n",
    "    def put(self, key: int, value: int) -> None:\n",
    "        current = self.map[self.index(key)]\n",
    "\n",
    "        while current.next:\n",
    "            # key is already exists\n",
    "            if current.next.key == key:\n",
    "                current.next.val = value\n",
    "                return\n",
    "            current = current.next\n",
    "        current.next = ListNode(key, value)\n",
    "\n",
    "    def get(self, key: int) -> int:\n",
    "        current = self.map[self.index(key)].next\n",
    "\n",
    "        while current:\n",
    "            if current.key == key:\n",
    "                return current.val\n",
    "\n",
    "            current = current.next\n",
    "\n",
    "        return -1\n",
    "\n",
    "\n",
    "    def remove(self, key: int) -> None:\n",
    "        current = self.map[self.index(key)]\n",
    "\n",
    "        while current and current.next:\n",
    "            if current.next.key == key:\n",
    "                # we are not deleting the node, we are reassining the pointer to the next node\n",
    "                current.next = current.next.next\n",
    "                return\n",
    "\n",
    "            current = current.next"
   ],
   "metadata": {
    "collapsed": false
   }
  },
  {
   "cell_type": "code",
   "execution_count": null,
   "outputs": [],
   "source": [
    "# Testcase\n",
    "obj = MyHashMap()\n",
    "obj.put(1,1)\n",
    "obj.put(2,2)\n",
    "param_1 = obj.get(1)\n",
    "obj.remove(1)"
   ],
   "metadata": {
    "collapsed": false
   }
  },
  {
   "cell_type": "markdown",
   "source": [
    "# 0121. Best Time to Buy and Sell Stock\n",
    "[Link to a problem](https://leetcode.com/problems/best-time-to-buy-and-sell-stock/)\n",
    "\n",
    "I solve this problem with two pointers approach and without the use of built-in max(), but it is not bad to use it at all."
   ],
   "metadata": {
    "collapsed": false
   }
  },
  {
   "cell_type": "code",
   "execution_count": 18,
   "outputs": [],
   "source": [
    "class Solution:\n",
    "    def maxProfit(self, prices: List[int]) -> int:\n",
    "        if not prices:\n",
    "            return 0\n",
    "\n",
    "        current_max = 0\n",
    "        left, right = 0, 1\n",
    "        while right < len(prices):\n",
    "            diff = prices[right] - prices[left]\n",
    "\n",
    "            if diff > current_max:\n",
    "                current_max = diff\n",
    "\n",
    "            if prices[right] > prices[left]:\n",
    "                right += 1\n",
    "            elif prices[right] <= prices[left]:\n",
    "                left = right\n",
    "                right += 1\n",
    "\n",
    "        return current_max"
   ],
   "metadata": {
    "collapsed": false
   }
  },
  {
   "cell_type": "code",
   "execution_count": 19,
   "outputs": [
    {
     "data": {
      "text/plain": "5"
     },
     "execution_count": 19,
     "metadata": {},
     "output_type": "execute_result"
    }
   ],
   "source": [
    "# Testcases\n",
    "solution = Solution()\n",
    "prices = [7,1,5,3,6,4]\n",
    "\n",
    "solution.maxProfit(prices)"
   ],
   "metadata": {
    "collapsed": false
   }
  },
  {
   "cell_type": "markdown",
   "source": [
    "# 0013. Roman to Integer\n",
    "[Link to the problem](https://leetcode.com/problems/roman-to-integer/)"
   ],
   "metadata": {
    "collapsed": false
   }
  },
  {
   "cell_type": "code",
   "execution_count": 13,
   "outputs": [],
   "source": [
    "class Solution:\n",
    "    def romanToInt(self, s: str) -> int:\n",
    "        roman_to_int = {\n",
    "            \"I\": 1,\n",
    "            \"V\": 5,\n",
    "            \"X\": 10,\n",
    "            \"L\": 50,\n",
    "            \"C\": 100,\n",
    "            \"D\": 500,\n",
    "            \"M\": 1000\n",
    "        }\n",
    "\n",
    "\n",
    "        number = 0\n",
    "        for index, char in enumerate(s):\n",
    "            if index+1 < len(s) and roman_to_int.get(char) < roman_to_int.get(s[index+1]):\n",
    "                number -= roman_to_int.get(char)\n",
    "            else:\n",
    "                number += roman_to_int.get(char)\n",
    "\n",
    "        return number"
   ],
   "metadata": {
    "collapsed": false,
    "ExecuteTime": {
     "end_time": "2023-06-27T06:55:11.359969Z",
     "start_time": "2023-06-27T06:55:11.346902Z"
    }
   }
  },
  {
   "cell_type": "code",
   "execution_count": 14,
   "outputs": [
    {
     "name": "stdout",
     "output_type": "stream",
     "text": [
      "3\n"
     ]
    }
   ],
   "source": [
    "string = \"III\"\n",
    "\n",
    "solution = Solution().romanToInt(string)\n",
    "\n",
    "print(solution)"
   ],
   "metadata": {
    "collapsed": false,
    "ExecuteTime": {
     "end_time": "2023-06-27T06:55:11.672328Z",
     "start_time": "2023-06-27T06:55:11.664929Z"
    }
   }
  },
  {
   "cell_type": "code",
   "execution_count": null,
   "outputs": [],
   "source": [],
   "metadata": {
    "collapsed": false
   }
  }
 ],
 "metadata": {
  "kernelspec": {
   "display_name": "Python 3",
   "language": "python",
   "name": "python3"
  },
  "language_info": {
   "codemirror_mode": {
    "name": "ipython",
    "version": 2
   },
   "file_extension": ".py",
   "mimetype": "text/x-python",
   "name": "python",
   "nbconvert_exporter": "python",
   "pygments_lexer": "ipython2",
   "version": "2.7.6"
  }
 },
 "nbformat": 4,
 "nbformat_minor": 0
}
