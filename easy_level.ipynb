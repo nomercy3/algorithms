{
 "cells": [
  {
   "cell_type": "markdown",
   "source": [
    "# Leetcode easy algorithms"
   ],
   "metadata": {
    "collapsed": false
   }
  },
  {
   "cell_type": "code",
   "execution_count": 2,
   "outputs": [],
   "source": [
    "# General imports\n",
    "from typing import List"
   ],
   "metadata": {
    "collapsed": false
   }
  },
  {
   "cell_type": "markdown",
   "source": [
    "## 0217. Contains Duplicates\n",
    "[Link to the problem](https://leetcode.com/problems/contains-duplicate/)\n",
    "\n",
    "We solve this problem using set structure. Set can contain only unique items.\n",
    "Here we just return True if the number of values in nums' array is equal the number of values in nums' set."
   ],
   "metadata": {
    "collapsed": false
   }
  },
  {
   "cell_type": "code",
   "execution_count": 3,
   "outputs": [],
   "source": [
    "class Solution:\n",
    "    def containsDuplicate(self, nums: List[int]) -> bool:\n",
    "        return len(nums) != len(set(nums))"
   ],
   "metadata": {
    "collapsed": false
   }
  },
  {
   "cell_type": "code",
   "execution_count": 4,
   "outputs": [],
   "source": [
    "# Testcases\n",
    "# Feel free to add yours!\n",
    "solution = Solution()\n",
    "nums_1 = [1, 2, 3, 1]\n",
    "nums_2 = [1, 2, 3, 4]\n",
    "nums_3 = [1,1,1,3,3,4,3,2,4,2]\n",
    "\n",
    "for nums_arr in [nums_1, nums_2, nums_3]:\n",
    "    solution.containsDuplicate(nums_arr)"
   ],
   "metadata": {
    "collapsed": false
   }
  },
  {
   "cell_type": "markdown",
   "source": [
    "# 0242. Valid Anagram\n",
    "[Link to the problem](https://leetcode.com/problems/valid-anagram/)\n",
    "\n",
    "There are several ways to solve this problem.\n",
    "First, the most pythonic way is to use built-in Counter."
   ],
   "metadata": {
    "collapsed": false
   }
  },
  {
   "cell_type": "code",
   "execution_count": 22,
   "outputs": [],
   "source": [
    "from collections import Counter\n",
    "\n",
    "class Solution:\n",
    "    def isAnagram(self, s: str, t: str) -> bool:\n",
    "        return Counter(s) == Counter(t)"
   ],
   "metadata": {
    "collapsed": false
   }
  },
  {
   "cell_type": "code",
   "execution_count": 23,
   "outputs": [],
   "source": [
    "# Testcases\n",
    "# Testcases\n",
    "solution = Solution()\n",
    "s_1, t_1 = \"anagram\", \"nagaram\"\n",
    "s_2, t_2 = \"rat\", \"car\"\n",
    "s_3, t_3 = \"\", \"\"\n",
    "\n",
    "for i in [(s_1, t_1), (s_2, t_2), (s_3, t_3)]:\n",
    "    print(solution.isAnagram(i[0], i[1]))"
   ],
   "metadata": {
    "collapsed": false
   }
  },
  {
   "cell_type": "markdown",
   "source": [
    "There is also a general way: which has complexity of O(s+t). Here we count characters by ourselves and then compair these counters."
   ],
   "metadata": {
    "collapsed": false
   }
  },
  {
   "cell_type": "code",
   "execution_count": 7,
   "outputs": [],
   "source": [
    "class Solution:\n",
    "    def isAnagram(self, s: str, t: str) -> bool:\n",
    "        if len(s) != len(t):\n",
    "            return False\n",
    "\n",
    "        counter_s, counter_t = {}, {}\n",
    "\n",
    "        for i in range(len(s)):\n",
    "            counter_s[s[i]] = 1 + counter_s.get(s[i], 0)\n",
    "            counter_t[t[i]] = 1 + counter_t.get(t[i], 0)\n",
    "\n",
    "        for char in counter_s:\n",
    "            if counter_s[char] != counter_t.get(char, 0):\n",
    "                return False\n",
    "\n",
    "        return True"
   ],
   "metadata": {
    "collapsed": false
   }
  },
  {
   "cell_type": "code",
   "execution_count": 8,
   "outputs": [
    {
     "name": "stdout",
     "output_type": "stream",
     "text": [
      "True\n",
      "False\n",
      "True\n"
     ]
    }
   ],
   "source": [
    "# Testcases\n",
    "solution = Solution()\n",
    "s_1, t_1 = \"anagram\", \"nagaram\"\n",
    "s_2, t_2 = \"rat\", \"car\"\n",
    "s_3, t_3 = \"\", \"\"\n",
    "\n",
    "for i in [(s_1, t_1), (s_2, t_2), (s_3, t_3)]:\n",
    "    print(solution.isAnagram(i[0], i[1]))"
   ],
   "metadata": {
    "collapsed": false
   }
  },
  {
   "cell_type": "markdown",
   "source": [
    "But we can also look at the problem in this way:\n",
    "If the strings ara anagram of each other, then their sorted characters will be equal.\n",
    "This is the most simple way with the complexity O(1)."
   ],
   "metadata": {
    "collapsed": false
   }
  },
  {
   "cell_type": "code",
   "execution_count": 9,
   "outputs": [],
   "source": [
    "class Solution:\n",
    "    def isAnagram(self, s: str, t: str) -> bool:\n",
    "       return sorted(s) == sorted(t)"
   ],
   "metadata": {
    "collapsed": false
   }
  },
  {
   "cell_type": "code",
   "execution_count": 10,
   "outputs": [
    {
     "name": "stdout",
     "output_type": "stream",
     "text": [
      "True\n",
      "False\n",
      "True\n"
     ]
    }
   ],
   "source": [
    "# Testcases\n",
    "solution = Solution()\n",
    "s_1, t_1 = \"anagram\", \"nagaram\"\n",
    "s_2, t_2 = \"rat\", \"car\"\n",
    "s_3, t_3 = \" \", \" \"\n",
    "\n",
    "for i in [(s_1, t_1), (s_2, t_2), (s_3, t_3)]:\n",
    "    print(solution.isAnagram(i[0], i[1]))"
   ],
   "metadata": {
    "collapsed": false
   }
  },
  {
   "cell_type": "markdown",
   "source": [
    "## 001. Two Sum\n",
    "[Link to the problem](https://leetcode.com/problems/two-sum/)\n",
    "\n",
    "The simplest solution is to use the hashmap structure to store differences between target and the number in the nums list.\n",
    "On each iteration we check if this difference is already in our hashmap and than return the index of this difference and index of the current number.\n",
    "The complexity is O(n)."
   ],
   "metadata": {
    "collapsed": false
   }
  },
  {
   "cell_type": "code",
   "execution_count": 11,
   "outputs": [],
   "source": [
    "class Solution:\n",
    "    def twoSum(self, nums: List[int], target: int) -> List[int]:\n",
    "        hash_map = {}\n",
    "\n",
    "        for index, number in enumerate(nums):\n",
    "            diff = target - number\n",
    "\n",
    "            if diff in hash_map:\n",
    "                return [hash_map[diff], index]\n",
    "\n",
    "            hash_map[number] = index"
   ],
   "metadata": {
    "collapsed": false
   }
  },
  {
   "cell_type": "code",
   "execution_count": 12,
   "outputs": [
    {
     "name": "stdout",
     "output_type": "stream",
     "text": [
      "None\n",
      "[1, 2]\n",
      "[0, 1]\n"
     ]
    }
   ],
   "source": [
    "# Testcases\n",
    "solution = Solution()\n",
    "nums_1 = [2,7,11,15]\n",
    "nums_2 = [3,2,4]\n",
    "nums_3 = [3, 3]\n",
    "target = 6\n",
    "\n",
    "for num in [nums_1, nums_2, nums_3]:\n",
    "    print(solution.twoSum(num, target))"
   ],
   "metadata": {
    "collapsed": false
   }
  },
  {
   "cell_type": "markdown",
   "source": [
    "# 0125. Valid Palindrome\n",
    "[Link to the problem](https://leetcode.com/problems/valid-palindrome/)\n",
    "\n",
    "Let's start with general solution. Time complexity: O(n), Memory: O(n+n)"
   ],
   "metadata": {
    "collapsed": false
   }
  },
  {
   "cell_type": "code",
   "execution_count": 13,
   "outputs": [],
   "source": [
    "class Solution:\n",
    "    def isPalindrome(self, s: str) -> bool:\n",
    "        new_string = str()\n",
    "\n",
    "        for char in s:\n",
    "            if char.isalnum():\n",
    "                new_string += char.lower()\n",
    "\n",
    "        return new_string == new_string[::-1]"
   ],
   "metadata": {
    "collapsed": false
   }
  },
  {
   "cell_type": "code",
   "execution_count": 14,
   "outputs": [
    {
     "name": "stdout",
     "output_type": "stream",
     "text": [
      "True\n",
      "False\n",
      "True\n"
     ]
    }
   ],
   "source": [
    "# Testcases\n",
    "solution = Solution()\n",
    "s_1 = \"A man, a plan, a canal: Panama\"\n",
    "s_2 = \"race a car\"\n",
    "s_3 = \" \"\n",
    "\n",
    "for s in [s_1, s_2, s_3]:\n",
    "    print(solution.isPalindrome(s))"
   ],
   "metadata": {
    "collapsed": false
   }
  },
  {
   "cell_type": "markdown",
   "source": [
    "And now let's try two pointers solution. Time: O(n), Memory: O(1). No extra memory needed because we've iterated through string only one time.\n",
    "Here we will use our own is_alpha_num function just in case someone asks you to right it by yourself, However python have isalnum() built-in, so feel free to use it."
   ],
   "metadata": {
    "collapsed": false
   }
  },
  {
   "cell_type": "code",
   "execution_count": 15,
   "outputs": [],
   "source": [
    "class Solution:\n",
    "    def isPalindrome(self, s: str) -> bool:\n",
    "        left, right = 0, len(s)-1\n",
    "\n",
    "        while left < right:\n",
    "            while left < right and not self.is_alpha_num(s[left]):\n",
    "                left += 1\n",
    "            while right > left and not self.is_alpha_num(s[right]):\n",
    "                right -= 1\n",
    "            if s[left].lower() != s[right].lower():\n",
    "                return False\n",
    "            left += 1\n",
    "            right -= 1\n",
    "        return True\n",
    "\n",
    "    def is_alpha_num(self, char):\n",
    "        return (ord('A') <= ord(char) <= ord('Z') or\n",
    "                ord('a') <= ord(char) <= ord('z') or\n",
    "                ord('0') <= ord(char) <= ord('9'))"
   ],
   "metadata": {
    "collapsed": false
   }
  },
  {
   "cell_type": "code",
   "execution_count": 16,
   "outputs": [
    {
     "name": "stdout",
     "output_type": "stream",
     "text": [
      "True\n",
      "False\n",
      "True\n"
     ]
    }
   ],
   "source": [
    "# Testcases\n",
    "solution = Solution()\n",
    "s_1 = \"A man, a plan, a canal: Panama\"\n",
    "s_2 = \"race a car\"\n",
    "s_3 = \" \"\n",
    "\n",
    "for s in [s_1, s_2, s_3]:\n",
    "    print(solution.isPalindrome(s))"
   ],
   "metadata": {
    "collapsed": false
   }
  },
  {
   "cell_type": "markdown",
   "source": [
    "# 0020. Valid Parentheses\n",
    "[Link to the problem](https://leetcode.com/problems/valid-parentheses/)\n",
    "\n",
    "To solve this problem we will use stack data structure. In python you can simply implement stack with a list."
   ],
   "metadata": {
    "collapsed": false
   }
  },
  {
   "cell_type": "code",
   "execution_count": 17,
   "outputs": [],
   "source": [
    "class Solution:\n",
    "    def isValid(self, s: str) -> bool:\n",
    "        stack = []\n",
    "        close_to_open = {\n",
    "            \")\": \"(\",\n",
    "            \"}\": \"{\",\n",
    "            \"]\": \"[\"\n",
    "        }\n",
    "\n",
    "        for char in s:\n",
    "            if char in close_to_open:\n",
    "                if stack and stack[-1] == close_to_open[char]:\n",
    "                    stack.pop()\n",
    "                else:\n",
    "                    return False\n",
    "            else:\n",
    "                stack.append(char)\n",
    "\n",
    "        return True if not stack else False\n"
   ],
   "metadata": {
    "collapsed": false
   }
  },
  {
   "cell_type": "code",
   "execution_count": 18,
   "outputs": [
    {
     "name": "stdout",
     "output_type": "stream",
     "text": [
      "True\n",
      "False\n",
      "True\n"
     ]
    }
   ],
   "source": [
    "# Testcases\n",
    "solution = Solution()\n",
    "s_1 = \"{{{[[]]}}}\"\n",
    "s_2 = \"(]\"\n",
    "s_3 = \"()[]{}\"\n",
    "\n",
    "for s in [s_1, s_2, s_3]:\n",
    "    print(solution.isValid(s))"
   ],
   "metadata": {
    "collapsed": false
   }
  },
  {
   "cell_type": "markdown",
   "source": [
    "# 0167. Two Sum II — Input Array Is Sorted\n",
    "[Link to the problem](https://leetcode.com/problems/two-sum-ii-input-array-is-sorted/)\n",
    "\n",
    "Unlike in Two Sum with unsorted array we cannot just create hashmap. We should provide O(1) memory complexity solution.\n",
    "That's why we will use two pointers to iterate through the array just once."
   ],
   "metadata": {
    "collapsed": false
   }
  },
  {
   "cell_type": "code",
   "execution_count": 19,
   "outputs": [],
   "source": [
    "class Solution:\n",
    "    def twoSum(self, numbers: List[int], target: int) -> List[int]:\n",
    "        left, right = 0, len(numbers)-1\n",
    "\n",
    "        while left < right:\n",
    "            current_sum = numbers[left] + numbers[right]\n",
    "\n",
    "            if current_sum > target:\n",
    "                right -= 1\n",
    "            elif current_sum < target:\n",
    "                left += 1\n",
    "            else:\n",
    "                return [left+1, right+1]\n",
    "\n",
    "        return []"
   ],
   "metadata": {
    "collapsed": false
   }
  },
  {
   "cell_type": "code",
   "execution_count": 20,
   "outputs": [
    {
     "data": {
      "text/plain": "[1, 2]"
     },
     "execution_count": 20,
     "metadata": {},
     "output_type": "execute_result"
    }
   ],
   "source": [
    "# Testcases\n",
    "solution = Solution()\n",
    "numbers_1 = [2,7,11,15]\n",
    "target_1 = 9\n",
    "\n",
    "solution.twoSum(numbers_1, target_1)"
   ],
   "metadata": {
    "collapsed": false
   }
  }
 ],
 "metadata": {
  "kernelspec": {
   "display_name": "Python 3",
   "language": "python",
   "name": "python3"
  },
  "language_info": {
   "codemirror_mode": {
    "name": "ipython",
    "version": 2
   },
   "file_extension": ".py",
   "mimetype": "text/x-python",
   "name": "python",
   "nbconvert_exporter": "python",
   "pygments_lexer": "ipython2",
   "version": "2.7.6"
  }
 },
 "nbformat": 4,
 "nbformat_minor": 0
}
