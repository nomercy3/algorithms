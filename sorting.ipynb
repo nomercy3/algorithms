{
 "cells": [
  {
   "cell_type": "code",
   "execution_count": 1,
   "outputs": [],
   "source": [
    "# Imports\n",
    "\n",
    "from typing import List\n",
    "import time"
   ],
   "metadata": {
    "collapsed": false,
    "ExecuteTime": {
     "end_time": "2023-08-07T06:52:36.650317Z",
     "start_time": "2023-08-07T06:52:36.639123Z"
    }
   }
  },
  {
   "cell_type": "markdown",
   "source": [
    "## Bubble sort\n",
    "Time Complexity: Best(already sorted): $O(n)$, Worst: $O(n^2)$\n",
    "Space Complexity: $O(1)$"
   ],
   "metadata": {
    "collapsed": false
   }
  },
  {
   "cell_type": "code",
   "execution_count": null,
   "outputs": [],
   "source": [
    "# Unoptimized\n",
    "class Solution:\n",
    "    def bubble_sort(self, nums: List[int]):\n",
    "        start_time = time.time()\n",
    "        n = len(nums)\n",
    "\n",
    "        for i in range(n):\n",
    "            for j in range(0, n - i - 1):\n",
    "                if nums[j] > nums[j+1]:\n",
    "                    nums[j], nums[j+1] = nums[j+1], nums[j]\n",
    "\n",
    "        end_time = time.time()\n",
    "        elapsed_time = end_time - start_time\n",
    "        print(elapsed_time)\n",
    "        return nums\n",
    "\n",
    "nums = [-2, 45, 0, 11, 0, -9]\n",
    "solution = Solution()\n",
    "solution.bubble_sort(nums)"
   ],
   "metadata": {
    "collapsed": false
   }
  },
  {
   "cell_type": "code",
   "execution_count": null,
   "outputs": [],
   "source": [
    "# Optimized\n",
    "class Solution:\n",
    "    def bubble_sort(self, nums: List[int]):\n",
    "        n = len(nums)\n",
    "\n",
    "        # loop through each element of nums\n",
    "        for i in range(n):\n",
    "\n",
    "            # keep track of swapping\n",
    "            swapped = False\n",
    "\n",
    "            # loop to compare array elements\n",
    "            for j in range(0, n - i - 1):\n",
    "\n",
    "                # compare two adjacent elements\n",
    "                if nums[j] > nums[j + 1]:\n",
    "                    # swapping\n",
    "                    nums[j], nums[j+1] = nums[j+1], nums[j]\n",
    "\n",
    "                    swapped = True\n",
    "\n",
    "            # no swapping means the array in already sorted\n",
    "            if not swapped:\n",
    "                break\n",
    "\n",
    "nums = [-2, 45, 0, 11, 0, -9]\n",
    "solution = Solution().bubble_sort(nums)\n",
    "print(nums)"
   ],
   "metadata": {
    "collapsed": false
   }
  },
  {
   "cell_type": "markdown",
   "source": [
    "## Selection Sort\n",
    "Time complexity: $O(n^2)$\n",
    "Space complexity: $O(1)$"
   ],
   "metadata": {
    "collapsed": false
   }
  },
  {
   "cell_type": "code",
   "execution_count": null,
   "outputs": [],
   "source": [
    "class Solution:\n",
    "    def selectionSort(self, nums: List[int]):\n",
    "\n",
    "        for step in range(len(nums)):\n",
    "            min_index = step\n",
    "\n",
    "            for index in range(step + 1, len(nums)):\n",
    "                if nums[index] < nums[min_index]:\n",
    "                    min_index = index\n",
    "\n",
    "            # put min in correct position\n",
    "            nums[step], nums[min_index] = nums[min_index], nums[step]\n",
    "\n",
    "\n",
    "nums = [-2, 45, 0, 11, 0, -9]\n",
    "solution = Solution().selectionSort(nums)\n",
    "print(nums)\n"
   ],
   "metadata": {
    "collapsed": false
   }
  },
  {
   "cell_type": "markdown",
   "source": [
    "\n",
    "## Insertion Sort\n",
    "[Article Link](https://www.programiz.com/dsa/insertion-sort)\n",
    "Insert element in front of greater element. First element of an array considered sorted.\n",
    "Time Complexity. Best: $O(n)$ — already sorted array. Worst: $O(n^2)$.\n",
    "\n",
    "Is used when:\n",
    "1. The array has a small number of elements\n",
    "2. There are only a few elements left to be sorted"
   ],
   "metadata": {
    "collapsed": false
   }
  },
  {
   "cell_type": "code",
   "execution_count": null,
   "outputs": [],
   "source": [
    "class Solution:\n",
    "    def insertionSort(self, nums: List):\n",
    "\n",
    "        for step in range(1, len(nums)):\n",
    "            value = nums[step]\n",
    "            previous_index = step - 1\n",
    "\n",
    "            while previous_index >= 0 and value < nums[previous_index]:\n",
    "                nums[previous_index + 1] = nums[previous_index]\n",
    "                previous_index = previous_index - 1\n",
    "\n",
    "            nums[previous_index + 1] = value\n",
    "\n",
    "nums = [-2, 45, 0, 11, 0, -9]\n",
    "solution = Solution().insertionSort(nums)\n",
    "print(nums)"
   ],
   "metadata": {
    "collapsed": false
   }
  },
  {
   "cell_type": "markdown",
   "source": [
    "## Quick Sort\n",
    "Time Complexity. Worst: $O(n^2)$. Best: $O(n \\log{n})$"
   ],
   "metadata": {
    "collapsed": false
   }
  },
  {
   "cell_type": "code",
   "execution_count": 3,
   "outputs": [
    {
     "name": "stdout",
     "output_type": "stream",
     "text": [
      "[-5, 0, 1, 2, 23, 43, 124]\n"
     ]
    }
   ],
   "source": [
    "def quicksort(arr: List):\n",
    "    if len(arr) < 2:\n",
    "        return arr\n",
    "    else:\n",
    "        pivot = arr[0]\n",
    "        less = [i for i in arr[1:] if i <= pivot]\n",
    "        greater = [i for i in arr[1:] if i > pivot]\n",
    "\n",
    "        return quicksort(less) + [pivot] + quicksort(greater)\n",
    "\n",
    "\n",
    "nums = [2, 124, 43, 23, 1, 0, -5]\n",
    "\n",
    "print(quicksort(nums))"
   ],
   "metadata": {
    "collapsed": false,
    "ExecuteTime": {
     "end_time": "2023-06-23T06:17:42.824492Z",
     "start_time": "2023-06-23T06:17:42.818927Z"
    }
   }
  },
  {
   "cell_type": "markdown",
   "source": [
    "# Merge sort\n",
    "- Usually done recursively\n",
    "- Divide and conquer\n",
    "\n",
    "Time complexity: $O(n \\log{n})$"
   ],
   "metadata": {
    "collapsed": false
   }
  },
  {
   "cell_type": "code",
   "execution_count": null,
   "outputs": [],
   "source": [
    "def mergeSort(arr: List[int]) -> None:\n",
    "    if len(arr) < 2:\n",
    "        return\n",
    "\n",
    "    divider = len(arr) // 2\n",
    "    left_half = arr[:divider]\n",
    "    right_half = arr[divider:]\n",
    "\n",
    "    mergeSort(right_half)\n",
    "    mergeSort(left_half)\n",
    "\n",
    "    lh_pointer, rh_pointer, k = 0\n",
    "\n",
    "    while lh_pointer < len(left_half) and rh_pointer < len(right_half):\n",
    "        if left_half[lh_pointer] < right_half[rh_pointer]:\n",
    "            arr[k] = left_half[lh_pointer]\n",
    "            lh_pointer = lh_pointer + 1"
   ],
   "metadata": {
    "collapsed": false
   }
  },
  {
   "cell_type": "markdown",
   "source": [
    "# Counting Sort\n",
    "Sorts the elements of an array by counting the number of occurrences of each unique element in the array."
   ],
   "metadata": {
    "collapsed": false
   }
  },
  {
   "cell_type": "code",
   "execution_count": 2,
   "outputs": [],
   "source": [
    "class Solution:\n",
    "\n",
    "    @staticmethod\n",
    "    def _find_max_number_(arr: List[int]) -> int:\n",
    "        if len(arr) == 0:\n",
    "            return 0\n",
    "\n",
    "        max_number = arr[0]\n",
    "\n",
    "        for i in arr[1:]:\n",
    "            if i > max_number:\n",
    "                max_number = i\n",
    "\n",
    "        return max_number\n",
    "\n",
    "    def count_sort(self, arr: List[int]) -> None:\n",
    "        result = [0] * len(arr)\n",
    "\n",
    "        max_number = self._find_max_number_(arr)\n",
    "        count_arr = [0] * max_number\n",
    "        print(count_arr)\n",
    "\n",
    "        # Store the count of each element in count array\n",
    "        # index — number in array, value at index — number of occurrences\n",
    "        for i in arr:\n",
    "            count_arr[i-1] += 1\n",
    "\n",
    "        # Store the cumulative count?\n",
    "        for i in range(max_number):\n",
    "            count_arr[i] += count_arr[i - 1]\n",
    "\n",
    "        # Find the index of each element of the original array in count array\n",
    "        # Place the elements in output array\n",
    "        for i in range(len(arr)):\n",
    "            print(i)\n",
    "            value = arr[i]\n",
    "            occurrence = count_arr[value]\n",
    "            result[occurrence-1] = value\n",
    "\n",
    "            count_arr[value] -= 1\n",
    "\n",
    "        # Copy sorted elements into original array\n",
    "        for i in range(len(arr)):\n",
    "            arr[i] = result[i]"
   ],
   "metadata": {
    "collapsed": false,
    "ExecuteTime": {
     "end_time": "2023-08-07T06:52:40.305104Z",
     "start_time": "2023-08-07T06:52:40.298260Z"
    }
   }
  },
  {
   "cell_type": "code",
   "execution_count": 3,
   "outputs": [
    {
     "name": "stdout",
     "output_type": "stream",
     "text": [
      "[0, 0, 0, 0, 0, 0, 0, 0]\n",
      "0\n",
      "1\n",
      "2\n",
      "3\n"
     ]
    },
    {
     "ename": "IndexError",
     "evalue": "list index out of range",
     "output_type": "error",
     "traceback": [
      "\u001B[0;31m---------------------------------------------------------------------------\u001B[0m",
      "\u001B[0;31mIndexError\u001B[0m                                Traceback (most recent call last)",
      "Cell \u001B[0;32mIn[3], line 3\u001B[0m\n\u001B[1;32m      1\u001B[0m data \u001B[38;5;241m=\u001B[39m [\u001B[38;5;241m4\u001B[39m, \u001B[38;5;241m2\u001B[39m, \u001B[38;5;241m2\u001B[39m, \u001B[38;5;241m8\u001B[39m, \u001B[38;5;241m3\u001B[39m, \u001B[38;5;241m3\u001B[39m, \u001B[38;5;241m1\u001B[39m]\n\u001B[0;32m----> 3\u001B[0m \u001B[43mSolution\u001B[49m\u001B[43m(\u001B[49m\u001B[43m)\u001B[49m\u001B[38;5;241;43m.\u001B[39;49m\u001B[43mcount_sort\u001B[49m\u001B[43m(\u001B[49m\u001B[43mdata\u001B[49m\u001B[43m)\u001B[49m\n\u001B[1;32m      4\u001B[0m \u001B[38;5;28mprint\u001B[39m(data)\n",
      "Cell \u001B[0;32mIn[2], line 37\u001B[0m, in \u001B[0;36mSolution.count_sort\u001B[0;34m(self, arr)\u001B[0m\n\u001B[1;32m     35\u001B[0m \u001B[38;5;28mprint\u001B[39m(i)\n\u001B[1;32m     36\u001B[0m value \u001B[38;5;241m=\u001B[39m arr[i]\n\u001B[0;32m---> 37\u001B[0m occurrence \u001B[38;5;241m=\u001B[39m \u001B[43mcount_arr\u001B[49m\u001B[43m[\u001B[49m\u001B[43mvalue\u001B[49m\u001B[43m]\u001B[49m\n\u001B[1;32m     38\u001B[0m result[occurrence\u001B[38;5;241m-\u001B[39m\u001B[38;5;241m1\u001B[39m] \u001B[38;5;241m=\u001B[39m value\n\u001B[1;32m     40\u001B[0m count_arr[value] \u001B[38;5;241m-\u001B[39m\u001B[38;5;241m=\u001B[39m \u001B[38;5;241m1\u001B[39m\n",
      "\u001B[0;31mIndexError\u001B[0m: list index out of range"
     ]
    }
   ],
   "source": [
    "data = [4, 2, 2, 8, 3, 3, 1]\n",
    "\n",
    "Solution().count_sort(data)\n",
    "print(data)"
   ],
   "metadata": {
    "collapsed": false,
    "ExecuteTime": {
     "end_time": "2023-08-07T06:52:41.797947Z",
     "start_time": "2023-08-07T06:52:41.485343Z"
    }
   }
  },
  {
   "cell_type": "code",
   "execution_count": null,
   "outputs": [],
   "source": [],
   "metadata": {
    "collapsed": false
   }
  }
 ],
 "metadata": {
  "kernelspec": {
   "display_name": "Python 3",
   "language": "python",
   "name": "python3"
  },
  "language_info": {
   "codemirror_mode": {
    "name": "ipython",
    "version": 2
   },
   "file_extension": ".py",
   "mimetype": "text/x-python",
   "name": "python",
   "nbconvert_exporter": "python",
   "pygments_lexer": "ipython2",
   "version": "2.7.6"
  }
 },
 "nbformat": 4,
 "nbformat_minor": 0
}
