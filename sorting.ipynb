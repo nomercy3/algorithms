{
 "cells": [
  {
   "cell_type": "code",
   "execution_count": 1,
   "outputs": [],
   "source": [
    "# Imports\n",
    "\n",
    "from typing import List\n",
    "import time"
   ],
   "metadata": {
    "collapsed": false,
    "ExecuteTime": {
     "end_time": "2023-07-13T06:17:55.227300Z",
     "start_time": "2023-07-13T06:17:55.211534Z"
    }
   }
  },
  {
   "cell_type": "markdown",
   "source": [
    "## Bubble sort\n",
    "Time Complexity: Best(already sorted): $O(n)$, Worst: $O(n^2)$\n",
    "Space Complexity: $O(1)$"
   ],
   "metadata": {
    "collapsed": false
   }
  },
  {
   "cell_type": "code",
   "execution_count": null,
   "outputs": [],
   "source": [
    "# Unoptimized\n",
    "class Solution:\n",
    "    def bubble_sort(self, nums: List[int]):\n",
    "        start_time = time.time()\n",
    "        n = len(nums)\n",
    "\n",
    "        for i in range(n):\n",
    "            for j in range(0, n - i - 1):\n",
    "                if nums[j] > nums[j+1]:\n",
    "                    nums[j], nums[j+1] = nums[j+1], nums[j]\n",
    "\n",
    "        end_time = time.time()\n",
    "        elapsed_time = end_time - start_time\n",
    "        print(elapsed_time)\n",
    "        return nums\n",
    "\n",
    "nums = [-2, 45, 0, 11, 0, -9]\n",
    "solution = Solution()\n",
    "solution.bubble_sort(nums)"
   ],
   "metadata": {
    "collapsed": false
   }
  },
  {
   "cell_type": "code",
   "execution_count": null,
   "outputs": [],
   "source": [
    "# Optimized\n",
    "class Solution:\n",
    "    def bubble_sort(self, nums: List[int]):\n",
    "        n = len(nums)\n",
    "\n",
    "        # loop through each element of nums\n",
    "        for i in range(n):\n",
    "\n",
    "            # keep track of swapping\n",
    "            swapped = False\n",
    "\n",
    "            # loop to compare array elements\n",
    "            for j in range(0, n - i - 1):\n",
    "\n",
    "                # compare two adjacent elements\n",
    "                if nums[j] > nums[j + 1]:\n",
    "                    # swapping\n",
    "                    nums[j], nums[j+1] = nums[j+1], nums[j]\n",
    "\n",
    "                    swapped = True\n",
    "\n",
    "            # no swapping means the array in already sorted\n",
    "            if not swapped:\n",
    "                break\n",
    "\n",
    "nums = [-2, 45, 0, 11, 0, -9]\n",
    "solution = Solution().bubble_sort(nums)\n",
    "print(nums)"
   ],
   "metadata": {
    "collapsed": false
   }
  },
  {
   "cell_type": "markdown",
   "source": [
    "## Selection Sort\n",
    "Time complexity: $O(n^2)$\n",
    "Space complexity: $O(1)$"
   ],
   "metadata": {
    "collapsed": false
   }
  },
  {
   "cell_type": "code",
   "execution_count": null,
   "outputs": [],
   "source": [
    "class Solution:\n",
    "    def selectionSort(self, nums: List[int]):\n",
    "\n",
    "        for step in range(len(nums)):\n",
    "            min_index = step\n",
    "\n",
    "            for index in range(step + 1, len(nums)):\n",
    "                if nums[index] < nums[min_index]:\n",
    "                    min_index = index\n",
    "\n",
    "            # put min in correct position\n",
    "            nums[step], nums[min_index] = nums[min_index], nums[step]\n",
    "\n",
    "\n",
    "nums = [-2, 45, 0, 11, 0, -9]\n",
    "solution = Solution().selectionSort(nums)\n",
    "print(nums)\n"
   ],
   "metadata": {
    "collapsed": false
   }
  },
  {
   "cell_type": "markdown",
   "source": [
    "\n",
    "## Insertion Sort\n",
    "[Article Link](https://www.programiz.com/dsa/insertion-sort)\n",
    "Insert element in front of greater element. First element of an array considered sorted.\n",
    "Time Complexity. Best: $O(n)$ — already sorted array. Worst: $O(n^2)$.\n",
    "\n",
    "Is used when:\n",
    "1. The array has a small number of elements\n",
    "2. There are only a few elements left to be sorted"
   ],
   "metadata": {
    "collapsed": false
   }
  },
  {
   "cell_type": "code",
   "execution_count": null,
   "outputs": [],
   "source": [
    "class Solution:\n",
    "    def insertionSort(self, nums: List):\n",
    "\n",
    "        for step in range(1, len(nums)):\n",
    "            value = nums[step]\n",
    "            previous_index = step - 1\n",
    "\n",
    "            while previous_index >= 0 and value < nums[previous_index]:\n",
    "                nums[previous_index + 1] = nums[previous_index]\n",
    "                previous_index = previous_index - 1\n",
    "\n",
    "            nums[previous_index + 1] = value\n",
    "\n",
    "nums = [-2, 45, 0, 11, 0, -9]\n",
    "solution = Solution().insertionSort(nums)\n",
    "print(nums)"
   ],
   "metadata": {
    "collapsed": false
   }
  },
  {
   "cell_type": "markdown",
   "source": [
    "## Quick Sort\n",
    "Time Complexity. Worst: $O(n^2)$. Best: $O(n \\log{n})$"
   ],
   "metadata": {
    "collapsed": false
   }
  },
  {
   "cell_type": "code",
   "execution_count": 3,
   "outputs": [
    {
     "name": "stdout",
     "output_type": "stream",
     "text": [
      "[-5, 0, 1, 2, 23, 43, 124]\n"
     ]
    }
   ],
   "source": [
    "def quicksort(arr: List):\n",
    "    if len(arr) < 2:\n",
    "        return arr\n",
    "    else:\n",
    "        pivot = arr[0]\n",
    "        less = [i for i in arr[1:] if i <= pivot]\n",
    "        greater = [i for i in arr[1:] if i > pivot]\n",
    "\n",
    "        return quicksort(less) + [pivot] + quicksort(greater)\n",
    "\n",
    "\n",
    "nums = [2, 124, 43, 23, 1, 0, -5]\n",
    "\n",
    "print(quicksort(nums))"
   ],
   "metadata": {
    "collapsed": false,
    "ExecuteTime": {
     "end_time": "2023-06-23T06:17:42.824492Z",
     "start_time": "2023-06-23T06:17:42.818927Z"
    }
   }
  },
  {
   "cell_type": "markdown",
   "source": [
    "# Merge sort\n",
    "- Usually done recursively\n",
    "- Divide and conquer\n",
    "\n",
    "Time complexity: $O(n \\log{n})$"
   ],
   "metadata": {
    "collapsed": false
   }
  },
  {
   "cell_type": "code",
   "execution_count": null,
   "outputs": [],
   "source": [
    "def mergeSort(arr: List[int]) -> None:\n",
    "    if len(arr) < 2:\n",
    "        return\n",
    "\n",
    "    divider = len(arr) // 2\n",
    "    left_half = arr[:divider]\n",
    "    right_half = arr[divider:]\n",
    "\n",
    "    mergeSort(right_half)\n",
    "    mergeSort(left_half)\n",
    "\n",
    "    lh_pointer, rh_pointer, k = 0\n",
    "\n",
    "    while lh_pointer < len(left_half) and rh_pointer < len(right_half):\n",
    "        if left_half[lh_pointer] < right_half[rh_pointer]:\n",
    "            arr[k] = left_half[lh_pointer]\n",
    "            lh_pointer = lh_pointer + 1\n",
    "\n",
    "\n"
   ],
   "metadata": {
    "collapsed": false
   }
  }
 ],
 "metadata": {
  "kernelspec": {
   "display_name": "Python 3",
   "language": "python",
   "name": "python3"
  },
  "language_info": {
   "codemirror_mode": {
    "name": "ipython",
    "version": 2
   },
   "file_extension": ".py",
   "mimetype": "text/x-python",
   "name": "python",
   "nbconvert_exporter": "python",
   "pygments_lexer": "ipython2",
   "version": "2.7.6"
  }
 },
 "nbformat": 4,
 "nbformat_minor": 0
}
